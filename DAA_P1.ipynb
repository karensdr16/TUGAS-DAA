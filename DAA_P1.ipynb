{
  "nbformat": 4,
  "nbformat_minor": 0,
  "metadata": {
    "colab": {
      "provenance": [],
      "toc_visible": true
    },
    "kernelspec": {
      "name": "python3",
      "display_name": "Python 3"
    },
    "language_info": {
      "name": "python"
    }
  },
  "cells": [
    {
      "cell_type": "code",
      "execution_count": null,
      "metadata": {
        "colab": {
          "base_uri": "https://localhost:8080/"
        },
        "id": "IieoCxnDFvcE",
        "outputId": "78127f08-0dfa-44f6-e753-5353c5be71aa"
      },
      "outputs": [
        {
          "output_type": "stream",
          "name": "stdout",
          "text": [
            "(8, 2)\n"
          ]
        }
      ],
      "source": [
        "def max_min(arr):\n",
        "    mx, mn = arr[0], arr[0]\n",
        "    for x in arr[1:]:\n",
        "       if x > mx: mx = x\n",
        "       if x < mn: mn = x\n",
        "    return mx, mn\n",
        "data = [3, 5, 2, 8, 6]\n",
        "print(max_min(data))  # (8, 2)"
      ]
    },
    {
      "cell_type": "code",
      "source": [
        "def sum_avg(arr):\n",
        "    s = 0\n",
        "    for x in arr: s += x\n",
        "    return s, s/len(arr)\n",
        "print(sum_avg([3,5,2,8,6]))  # (24, 4.8)"
      ],
      "metadata": {
        "colab": {
          "base_uri": "https://localhost:8080/"
        },
        "id": "CFoIJjbXGcw4",
        "outputId": "c8a9f4d9-842c-4fc6-fe45-6bb3cea54fb8"
      },
      "execution_count": null,
      "outputs": [
        {
          "output_type": "stream",
          "name": "stdout",
          "text": [
            "(24, 4.8)\n"
          ]
        }
      ]
    },
    {
      "cell_type": "code",
      "source": [
        "def linear_search(arr, target):\n",
        "    for i, x in enumerate(arr):\n",
        "        if x == target:\n",
        "            return i\n",
        "        return -1\n",
        "        print(linear_search([7,1,9,4], 9))  # 2"
      ],
      "metadata": {
        "id": "2JD0yY--GjBz"
      },
      "execution_count": null,
      "outputs": []
    },
    {
      "cell_type": "code",
      "source": [
        "def binary_search(arr, target):\n",
        "    l, r = 0, len(arr)-1\n",
        "    while l <= r:\n",
        "          m = (l+r)//2\n",
        "          if arr[m] == target: return m\n",
        "          if arr[m] < target: l = m+1\n",
        "          else: r = m-1\n",
        "    return -1\n",
        "print(binary_search([1,3,5,7,9], 7))  # 3"
      ],
      "metadata": {
        "colab": {
          "base_uri": "https://localhost:8080/"
        },
        "id": "eKOckH9rHD8B",
        "outputId": "6953746a-ebe0-476b-b536-7c01b262bea3"
      },
      "execution_count": null,
      "outputs": [
        {
          "output_type": "stream",
          "name": "stdout",
          "text": [
            "3\n"
          ]
        }
      ]
    },
    {
      "cell_type": "code",
      "source": [
        "def is_prime(n):\n",
        "    if n < 2: return False\n",
        "    i = 2\n",
        "    while i*i <= n:\n",
        "        if n % i == 0: return False\n",
        "        i += 1\n",
        "    return True\n",
        "print([ (x, is_prime(x)) for x in [2,3,4,17,20,23]\n",
        "])"
      ],
      "metadata": {
        "colab": {
          "base_uri": "https://localhost:8080/"
        },
        "id": "nieePZM9Hcjn",
        "outputId": "4e73c136-4eea-408f-a3a0-9c01576e13b6"
      },
      "execution_count": null,
      "outputs": [
        {
          "output_type": "stream",
          "name": "stdout",
          "text": [
            "[(2, True), (3, True), (4, False), (17, True), (20, False), (23, True)]\n"
          ]
        }
      ]
    },
    {
      "cell_type": "code",
      "source": [
        "def sieve(n):\n",
        "    prime = [True]*(n+1)\n",
        "    prime[:2] = [False, False]\n",
        "    p = 2\n",
        "    while p*p <= n:\n",
        "      if prime[p]:\n",
        "          for m in range(p*p, n+1, p):\n",
        "              prime[m] = False\n",
        "      p += 1\n",
        "    return [i for i, v in enumerate(prime) if v]\n",
        "\n",
        "print(sieve(30))"
      ],
      "metadata": {
        "colab": {
          "base_uri": "https://localhost:8080/"
        },
        "id": "bVDwSedWHqTt",
        "outputId": "529a8b3b-a113-45d3-e669-15f53c28a423"
      },
      "execution_count": null,
      "outputs": [
        {
          "output_type": "stream",
          "name": "stdout",
          "text": [
            "[2, 3, 5, 7, 11, 13, 17, 19, 23, 29]\n"
          ]
        }
      ]
    },
    {
      "cell_type": "code",
      "source": [
        "def factorial(n):\n",
        "    res = 1\n",
        "    for i in range(2, n+1): res *= i\n",
        "    return res\n",
        "print(factorial(5))  # 120"
      ],
      "metadata": {
        "colab": {
          "base_uri": "https://localhost:8080/"
        },
        "id": "HbMT7tvUIL8O",
        "outputId": "df27a365-59a6-429a-9aba-6b39f565e29d"
      },
      "execution_count": null,
      "outputs": [
        {
          "output_type": "stream",
          "name": "stdout",
          "text": [
            "120\n"
          ]
        }
      ]
    },
    {
      "cell_type": "code",
      "source": [
        "def fib(n):\n",
        "    if n <= 1: return n\n",
        "    a, b = 0, 1\n",
        "    for _ in range(2, n+1):\n",
        "        a, b = b, a+b\n",
        "    return b\n",
        "print([fib(i) for i in range(10)])"
      ],
      "metadata": {
        "colab": {
          "base_uri": "https://localhost:8080/"
        },
        "id": "RbB-MUHeIS7p",
        "outputId": "e38f9877-d98f-4ef5-c813-da2f50b410ad"
      },
      "execution_count": null,
      "outputs": [
        {
          "output_type": "stream",
          "name": "stdout",
          "text": [
            "[0, 1, 1, 2, 3, 5, 8, 13, 21, 34]\n"
          ]
        }
      ]
    },
    {
      "cell_type": "code",
      "source": [
        "def is_palindrome(s):\n",
        "    l, r = 0, len(s)-1\n",
        "    while l < r:\n",
        "        if s[l] != s[r]: return False\n",
        "        l += 1; r -= 1\n",
        "    return True\n",
        "print(is_palindrome(\"level\"))\n",
        "print(is_palindrome(\"hello\"))"
      ],
      "metadata": {
        "colab": {
          "base_uri": "https://localhost:8080/"
        },
        "id": "ALChDZ4fIdXY",
        "outputId": "5c9719d4-4322-4921-950b-a70bab8e3bf0"
      },
      "execution_count": null,
      "outputs": [
        {
          "output_type": "stream",
          "name": "stdout",
          "text": [
            "True\n",
            "False\n"
          ]
        }
      ]
    },
    {
      "cell_type": "code",
      "source": [
        "def freq_map(arr):\n",
        "    f = {}\n",
        "    for x in arr:\n",
        "        f[x] = f.get(x, 0) + 1\n",
        "    return f\n",
        "print(freq_map([\"a\",\"b\",\"a\",\"c\",\"b\",\"a\"]))"
      ],
      "metadata": {
        "colab": {
          "base_uri": "https://localhost:8080/"
        },
        "id": "wv1PQBCbIdKQ",
        "outputId": "07eeba7e-ff37-4876-f22f-e9bdbcd2fe60"
      },
      "execution_count": null,
      "outputs": [
        {
          "output_type": "stream",
          "name": "stdout",
          "text": [
            "{'a': 3, 'b': 2, 'c': 1}\n"
          ]
        }
      ]
    },
    {
      "cell_type": "code",
      "source": [
        "def second_largest(arr):\n",
        "    first = second = float(\"-inf\")\n",
        "    for x in arr:\n",
        "        if x > first:\n",
        "            first, second = x, first\n",
        "        elif first > x > second:\n",
        "            second = x\n",
        "    return second\n",
        "print(second_largest([3,9,1,7,9,5]))  # 7"
      ],
      "metadata": {
        "colab": {
          "base_uri": "https://localhost:8080/"
        },
        "id": "fNSDpgYtI0SJ",
        "outputId": "6c3c6827-d944-4ff4-f85e-d79e091eb76a"
      },
      "execution_count": null,
      "outputs": [
        {
          "output_type": "stream",
          "name": "stdout",
          "text": [
            "7\n"
          ]
        }
      ]
    },
    {
      "cell_type": "code",
      "source": [
        "def reverse_list(a):\n",
        "    l, r = 0, len(a)-1\n",
        "    while l < r:\n",
        "        a[l], a[r] = a[r], a[l]\n",
        "        l += 1; r -= 1\n",
        "    return a\n",
        "print(reverse_list([1,2,3,4,5]))\n",
        "print(\"hello\"[::-1])"
      ],
      "metadata": {
        "colab": {
          "base_uri": "https://localhost:8080/"
        },
        "id": "W5CiDa5sJGUl",
        "outputId": "5d28fae5-6d18-49e2-b6a7-0390bdbc0f0b"
      },
      "execution_count": null,
      "outputs": [
        {
          "output_type": "stream",
          "name": "stdout",
          "text": [
            "[5, 4, 3, 2, 1]\n",
            "olleh\n"
          ]
        }
      ]
    }
  ]
}