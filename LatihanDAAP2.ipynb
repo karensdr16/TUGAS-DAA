{
  "nbformat": 4,
  "nbformat_minor": 0,
  "metadata": {
    "colab": {
      "provenance": []
    },
    "kernelspec": {
      "name": "python3",
      "display_name": "Python 3"
    },
    "language_info": {
      "name": "python"
    }
  },
  "cells": [
    {
      "cell_type": "code",
      "execution_count": null,
      "metadata": {
        "colab": {
          "base_uri": "https://localhost:8080/"
        },
        "id": "ni17IpWZnTSK",
        "outputId": "7dcde921-2699-495a-c728-c4945b96f15c"
      },
      "outputs": [
        {
          "output_type": "stream",
          "name": "stdout",
          "text": [
            "[1, 2, 3, 4, 5, 6]\n"
          ]
        }
      ],
      "source": [
        "# terdapat list a dan b\n",
        "a = [1, 2, 3]\n",
        "b = [4, 5, 6]\n",
        "\n",
        "# lalu jumlahkan\n",
        "hasil = a + b\n",
        "\n",
        "print(hasil) # [1, 2, 3, 4, 5, 6]"
      ]
    },
    {
      "cell_type": "code",
      "source": [
        "def add(list_a, list_b):\n",
        " result = []\n",
        " for first, second in zip(list_a, list_b):\n",
        "  result.append(first + second)\n",
        " return result\n",
        "print(a)\n",
        "print(b)\n",
        "print(add(a, b))"
      ],
      "metadata": {
        "colab": {
          "base_uri": "https://localhost:8080/"
        },
        "id": "im8-T_-6rzyH",
        "outputId": "50267c21-caac-4772-aaf6-d9549d3da2f0"
      },
      "execution_count": null,
      "outputs": [
        {
          "output_type": "stream",
          "name": "stdout",
          "text": [
            "[1, 2, 3]\n",
            "[4, 5, 6]\n",
            "[5, 7, 9]\n"
          ]
        }
      ]
    },
    {
      "cell_type": "code",
      "source": [
        "def add(list_a, list_b):\n",
        " result = []\n",
        " for first, second in zip(list_a, list_b):\n",
        "  result.append(first + second)\n",
        " x = 0\n",
        " for i in result:\n",
        "  x += i\n",
        " return x\n",
        "print(add(a, b))"
      ],
      "metadata": {
        "colab": {
          "base_uri": "https://localhost:8080/"
        },
        "id": "LoJkppJUvZO1",
        "outputId": "08903685-ea15-42ed-d17d-518120dec5c9"
      },
      "execution_count": null,
      "outputs": [
        {
          "output_type": "stream",
          "name": "stdout",
          "text": [
            "21\n"
          ]
        }
      ]
    },
    {
      "cell_type": "code",
      "source": [
        " print(\"Hello, World!\")\n",
        " print(\"Nama saya Karen Sandra\")\n",
        " print(\"NIM saya 2024071031\")\n"
      ],
      "metadata": {
        "colab": {
          "base_uri": "https://localhost:8080/"
        },
        "outputId": "e181d912-4882-41e4-e52b-006cdee7f9da",
        "id": "gqg6LPHMziQx"
      },
      "execution_count": null,
      "outputs": [
        {
          "output_type": "stream",
          "name": "stdout",
          "text": [
            "Hello, World!\n",
            "Nama saya Karen Sandra\n",
            "NIM saya 2024071031\n"
          ]
        }
      ]
    },
    {
      "cell_type": "code",
      "source": [
        "if 5 > 2:\n",
        "    print(\"Five is greater than two!\")"
      ],
      "metadata": {
        "colab": {
          "base_uri": "https://localhost:8080/"
        },
        "id": "M5at2OOHzwEh",
        "outputId": "89b2ea29-0e9c-4592-c355-fd0c8e3224ae"
      },
      "execution_count": null,
      "outputs": [
        {
          "output_type": "stream",
          "name": "stdout",
          "text": [
            "Five is greater than two!\n"
          ]
        }
      ]
    },
    {
      "cell_type": "code",
      "source": [
        "if 5 < 2:\n",
        "    print(\"Five is greater than two!\")"
      ],
      "metadata": {
        "id": "EBesxXTO1l8j"
      },
      "execution_count": null,
      "outputs": []
    },
    {
      "cell_type": "code",
      "source": [
        " x = 5\n",
        " y = \"John\"\n",
        " print(x)\n",
        " print(y)"
      ],
      "metadata": {
        "colab": {
          "base_uri": "https://localhost:8080/"
        },
        "id": "SopeEwmJ1h1U",
        "outputId": "435ce668-b34e-4064-e64f-bafea3ddd25f"
      },
      "execution_count": null,
      "outputs": [
        {
          "output_type": "stream",
          "name": "stdout",
          "text": [
            "5\n",
            "John\n"
          ]
        }
      ]
    },
    {
      "cell_type": "code",
      "source": [
        "x = 4\n",
        "x = \"Sally\"\n",
        "print(x)"
      ],
      "metadata": {
        "colab": {
          "base_uri": "https://localhost:8080/"
        },
        "id": "2rC32Mc216ev",
        "outputId": "0d695181-f763-404d-8a17-347ea0b70b15"
      },
      "execution_count": null,
      "outputs": [
        {
          "output_type": "stream",
          "name": "stdout",
          "text": [
            "Sally\n"
          ]
        }
      ]
    },
    {
      "cell_type": "code",
      "source": [
        "def getFirst(myList):\n",
        "  return(myList[0])\n",
        "getFirst([1, 2, 3])"
      ],
      "metadata": {
        "colab": {
          "base_uri": "https://localhost:8080/"
        },
        "id": "leTYs-WH6PWQ",
        "outputId": "d101904f-17f7-42ee-db0e-c9568ee260ae"
      },
      "execution_count": null,
      "outputs": [
        {
          "output_type": "execute_result",
          "data": {
            "text/plain": [
              "1"
            ]
          },
          "metadata": {},
          "execution_count": 73
        }
      ]
    },
    {
      "cell_type": "code",
      "source": [
        "getFirst([1, 2, 3])"
      ],
      "metadata": {
        "colab": {
          "base_uri": "https://localhost:8080/"
        },
        "id": "zSms8oKq6wPJ",
        "outputId": "d8cf3b65-3c3f-442d-e838-006c4a911b09"
      },
      "execution_count": null,
      "outputs": [
        {
          "output_type": "execute_result",
          "data": {
            "text/plain": [
              "1"
            ]
          },
          "metadata": {},
          "execution_count": 74
        }
      ]
    },
    {
      "cell_type": "code",
      "source": [
        "getFirst([1, 2, 3, 4, 5, 6, 7, 8, 9])"
      ],
      "metadata": {
        "colab": {
          "base_uri": "https://localhost:8080/"
        },
        "id": "ECfx0_Ka66nf",
        "outputId": "2f879a1f-dfe7-436a-8455-594add26308e"
      },
      "execution_count": null,
      "outputs": [
        {
          "output_type": "execute_result",
          "data": {
            "text/plain": [
              "1"
            ]
          },
          "metadata": {},
          "execution_count": 75
        }
      ]
    },
    {
      "cell_type": "code",
      "source": [
        "my_list = [1, 2, 3]\n",
        "panjang_list = len(my_list)\n",
        "print (panjang_list)\n",
        "print(my_list[len(my_list)-1])"
      ],
      "metadata": {
        "colab": {
          "base_uri": "https://localhost:8080/"
        },
        "id": "Q5e97x4-15fn",
        "outputId": "7e3f155e-4931-4f46-c84a-a7904f2f72f5"
      },
      "execution_count": null,
      "outputs": [
        {
          "output_type": "stream",
          "name": "stdout",
          "text": [
            "3\n",
            "3\n"
          ]
        }
      ]
    },
    {
      "cell_type": "code",
      "source": [
        "def getSecond(myList):\n",
        "  return(myList[1])\n",
        "getSecond([1, 2, 3])"
      ],
      "metadata": {
        "colab": {
          "base_uri": "https://localhost:8080/"
        },
        "outputId": "ad30daa8-4b2e-40dd-faa2-7d94ab6f3da3",
        "id": "u5rmTu55b-Qp"
      },
      "execution_count": 2,
      "outputs": [
        {
          "output_type": "execute_result",
          "data": {
            "text/plain": [
              "2"
            ]
          },
          "metadata": {},
          "execution_count": 2
        }
      ]
    },
    {
      "cell_type": "code",
      "source": [
        "def getKali(myList):\n",
        "    hasil = 1\n",
        "    for x in myList:\n",
        "        hasil *= x\n",
        "    return hasil\n",
        "\n",
        "print(getKali([1, 2, 3]))\n"
      ],
      "metadata": {
        "id": "fcLkLTEw6POC",
        "colab": {
          "base_uri": "https://localhost:8080/"
        },
        "outputId": "f2a267a2-a905-43ab-bf5e-86f6b68ea6df"
      },
      "execution_count": 5,
      "outputs": [
        {
          "output_type": "stream",
          "name": "stdout",
          "text": [
            "6\n"
          ]
        }
      ]
    },
    {
      "cell_type": "code",
      "source": [],
      "metadata": {
        "id": "sll9sasSdITJ"
      },
      "execution_count": null,
      "outputs": []
    },
    {
      "cell_type": "code",
      "source": [
        "def getBagi(myList):\n",
        "    hasil = 1\n",
        "    for x in myList:\n",
        "        hasil /= x\n",
        "    return hasil\n",
        "\n",
        "print(getBagi([1, 2, 3]))\n"
      ],
      "metadata": {
        "colab": {
          "base_uri": "https://localhost:8080/"
        },
        "outputId": "a8cce9d6-ca34-4370-edf8-1b0337afaf07",
        "id": "XoazISZPdTnQ"
      },
      "execution_count": 8,
      "outputs": [
        {
          "output_type": "stream",
          "name": "stdout",
          "text": [
            "0.16666666666666666\n"
          ]
        }
      ]
    },
    {
      "cell_type": "code",
      "source": [
        "def getBagi(A, B):\n",
        "  A = (1, 2, 3)\n",
        "  B = (4, 5, 6)\n",
        "\n",
        "  sum1 = sum(A)\n",
        "  sum2 = sum(B)\n",
        "\n",
        "  return sum1 + sum2\n",
        "\n",
        "print(getBagi([1, 2, 3], [4, 5, 6]))"
      ],
      "metadata": {
        "colab": {
          "base_uri": "https://localhost:8080/"
        },
        "id": "MyGZXgWdd0cn",
        "outputId": "e00c3b01-7676-4bb9-9dc1-9ff739ed21a9"
      },
      "execution_count": 14,
      "outputs": [
        {
          "output_type": "stream",
          "name": "stdout",
          "text": [
            "21\n"
          ]
        }
      ]
    },
    {
      "cell_type": "code",
      "source": [
        "def getKurang(A, B):\n",
        "\n",
        "  sum1 = sum(A)\n",
        "  sum2 = sum(B)\n",
        "\n",
        "  return sum1 - sum2\n",
        "\n",
        "print(getKurang((1, 2, 3), (4, 5, 6)))"
      ],
      "metadata": {
        "colab": {
          "base_uri": "https://localhost:8080/"
        },
        "id": "0CzSGl0mfwU7",
        "outputId": "72b57cb9-220b-42f5-d973-747dfe75cfd5"
      },
      "execution_count": 22,
      "outputs": [
        {
          "output_type": "stream",
          "name": "stdout",
          "text": [
            "-9\n"
          ]
        }
      ]
    }
  ]
}