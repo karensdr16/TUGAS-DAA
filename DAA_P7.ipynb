{
  "nbformat": 4,
  "nbformat_minor": 0,
  "metadata": {
    "colab": {
      "provenance": []
    },
    "kernelspec": {
      "name": "python3",
      "display_name": "Python 3"
    },
    "language_info": {
      "name": "python"
    }
  },
  "cells": [
    {
      "cell_type": "code",
      "execution_count": null,
      "metadata": {
        "id": "VE8lGx3rtU_u"
      },
      "outputs": [],
      "source": [
        "# Karine Olivia Permana_2024071025"
      ]
    },
    {
      "cell_type": "code",
      "source": [
        "def tebak_angka(angka_rahasia):\n",
        "  for tebakan in range(1, 101):\n",
        "    if tebakan == angka_rahasia:\n",
        "      print(\"Angka rahasianya adalah\", tebakan)\n",
        "      break"
      ],
      "metadata": {
        "id": "RkxQPECptcvM"
      },
      "execution_count": null,
      "outputs": []
    },
    {
      "cell_type": "code",
      "source": [
        "def PerkalianMatriks(A, B, n):\n",
        "    C = [[0 for _ in range(n)] for _ in range(n)]\n",
        "    for i in range(n):\n",
        "        for j in range(n):\n",
        "            C[i][j] = 0\n",
        "            for k in range(n):\n",
        "                C[i][j] += A[i][k] * B[k][j]\n",
        "    return C\n",
        "\n",
        "# Contoh:\n",
        "A = [[1, 2], [3, 4]]\n",
        "B = [[5, 6], [7, 8]]\n",
        "print(PerkalianMatriks(A, B, 2))"
      ],
      "metadata": {
        "colab": {
          "base_uri": "https://localhost:8080/"
        },
        "id": "V6cFQbh52g7T",
        "outputId": "8975dc69-92f1-4789-aab7-e8c46a50fcaa"
      },
      "execution_count": null,
      "outputs": [
        {
          "output_type": "stream",
          "name": "stdout",
          "text": [
            "[[19, 22], [43, 50]]\n"
          ]
        }
      ]
    },
    {
      "cell_type": "code",
      "source": [
        "# Perkalian Matrix\n",
        "\n",
        "mat1 = [\n",
        "    [7, 0],\n",
        "    [4, 6],\n",
        "]\n",
        "\n",
        "mat2 = [\n",
        "    [3, 0],\n",
        "    [5, 2],\n",
        "]\n",
        "\n",
        "mat3 = []\n",
        "\n",
        "for x in range(0, len(mat1)):\n",
        "  row = []\n",
        "  for y in range(0, len(mat1[0])):\n",
        "    total = 0\n",
        "    for z in range(0, len(mat1)):\n",
        "      total = total + (mat1[x][z] * mat2[z][y])\n",
        "  mat3.append(row)\n",
        "\n",
        "\n",
        "for x in range (0, len(mat3)):\n",
        "  for y in range(0, len(mat3[0])):\n",
        "    print(mat3[x][y], end=' ')\n",
        "  print()"
      ],
      "metadata": {
        "colab": {
          "base_uri": "https://localhost:8080/"
        },
        "id": "gK55k8JwuBr0",
        "outputId": "d0a2bb36-2e6f-4079-d2f0-ed93edcb75ab"
      },
      "execution_count": null,
      "outputs": [
        {
          "output_type": "stream",
          "name": "stdout",
          "text": [
            "\n",
            "\n"
          ]
        }
      ]
    },
    {
      "cell_type": "code",
      "source": [
        "def CariFaktor(n):\n",
        "    for k in range(2, n):\n",
        "        if n % k == 0:\n",
        "            print(k)\n",
        "\n",
        "# Contoh:\n",
        "CariFaktor(20)"
      ],
      "metadata": {
        "colab": {
          "base_uri": "https://localhost:8080/"
        },
        "id": "Q9_FtZ8Z2mWA",
        "outputId": "a9bd5fe0-2fde-4853-c00e-99b970621ec3"
      },
      "execution_count": null,
      "outputs": [
        {
          "output_type": "stream",
          "name": "stdout",
          "text": [
            "2\n",
            "4\n",
            "5\n",
            "10\n"
          ]
        }
      ]
    },
    {
      "cell_type": "code",
      "source": [
        "# Faktorial\n",
        "\n",
        "def faktorial(n):\n",
        "  if (n==1):\n",
        "    return n\n",
        "  return faktorial(n-1)*n\n",
        "\n",
        "n = int(input(\"Masukkan nilau n: \"))\n",
        "print(f\"Hasil dari {n}!\", faktorial(n))"
      ],
      "metadata": {
        "colab": {
          "base_uri": "https://localhost:8080/"
        },
        "id": "XkJINtl9v-nl",
        "outputId": "bea310d4-431e-466d-ad8b-4d243d4fae7f"
      },
      "execution_count": null,
      "outputs": [
        {
          "output_type": "stream",
          "name": "stdout",
          "text": [
            "Masukkan nilau n: 5\n",
            "Hasil dari 5! 120\n"
          ]
        }
      ]
    },
    {
      "cell_type": "code",
      "source": [
        "# Elemen terbesar\n",
        "\n",
        "def CariElemenTerbesar(arr):\n",
        "    maks = arr[0]\n",
        "    for k in range(1, len(arr)):\n",
        "        if arr[k] > maks:\n",
        "            maks = arr[k]\n",
        "    return maks\n",
        "\n",
        "# Contoh:\n",
        "print(CariElemenTerbesar([3, 9, 1, 7, 4]))"
      ],
      "metadata": {
        "colab": {
          "base_uri": "https://localhost:8080/"
        },
        "id": "niVljVOu3R60",
        "outputId": "f615b9ed-d809-418e-aa01-9405118e9e00"
      },
      "execution_count": null,
      "outputs": [
        {
          "output_type": "stream",
          "name": "stdout",
          "text": [
            "9\n"
          ]
        }
      ]
    },
    {
      "cell_type": "code",
      "source": [
        "def nilai_maksimal(deret_bilangan):\n",
        "  nilai_terbesar = deret_bilangan[0]\n",
        "\n",
        "  for nilai in deret_bilangan:\n",
        "    if nilai > nilai_terbesar:\n",
        "      nilai_terbesar = nilai\n",
        "\n",
        "  return nilai_terbesar"
      ],
      "metadata": {
        "id": "Oo9xRE7DwqEx"
      },
      "execution_count": null,
      "outputs": []
    },
    {
      "cell_type": "code",
      "source": [
        "a = [3, 20, 100, -35, 50]\n",
        "\n",
        "print(a)\n",
        "print('Nilai terbesar:', nilai_maksimal(a))"
      ],
      "metadata": {
        "colab": {
          "base_uri": "https://localhost:8080/"
        },
        "id": "Nq8RA8VPw9Rn",
        "outputId": "8e7618bd-c234-4d37-82e4-ff0368e592cd"
      },
      "execution_count": null,
      "outputs": [
        {
          "output_type": "stream",
          "name": "stdout",
          "text": [
            "[3, 20, 100, -35, 50]\n",
            "Nilai terbesar: 100\n"
          ]
        }
      ]
    },
    {
      "cell_type": "code",
      "source": [
        "# Sequential Search\n",
        "\n",
        "def PencarianBeruntun(arr, x):\n",
        "    k = 0\n",
        "    # selama k < n dan arr[k] tidak sama dengan x\n",
        "    while k < len(arr) and arr[k] != x:\n",
        "        k += 1\n",
        "\n",
        "    # jika ditemukan\n",
        "    if k < len(arr) and arr[k] == x:\n",
        "        idx = k + 1   # posisi elemen (bukan indeks 0)\n",
        "    else:\n",
        "        idx = 0       # tidak ditemukan\n",
        "\n",
        "    return idx\n",
        "\n",
        "# Contoh penggunaan\n",
        "data = [5, 8, 3, 9, 2]\n",
        "x = 9\n",
        "hasil = PencarianBeruntun(data, x)\n",
        "\n",
        "if hasil != 0:\n",
        "    print(f\"Elemen {x} ditemukan pada posisi ke-{hasil}\")\n",
        "else:\n",
        "    print(f\"Elemen {x} tidak ditemukan\")"
      ],
      "metadata": {
        "colab": {
          "base_uri": "https://localhost:8080/"
        },
        "id": "FGHYnU5K3tZI",
        "outputId": "6f55f8eb-c292-4019-d7ef-2dbb4f4b8721"
      },
      "execution_count": null,
      "outputs": [
        {
          "output_type": "stream",
          "name": "stdout",
          "text": [
            "Elemen 9 ditemukan pada posisi ke-4\n"
          ]
        }
      ]
    },
    {
      "cell_type": "code",
      "source": [
        "def sequentialSearch(alist, item):\n",
        "  pos = 0\n",
        "  found = False\n",
        "\n",
        "  while pos < len(alist) and not found:\n",
        "    if alist[pos] == item:\n",
        "      found = True\n",
        "    else:\n",
        "      pos = pos+1\n",
        "  return found\n",
        "\n",
        "testlist = [1, 2, 32, 8, 17, 19, 42, 13, 0]\n",
        "print(sequentialSearch(testlist, 3))\n",
        "print(sequentialSearch(testlist, 2))"
      ],
      "metadata": {
        "colab": {
          "base_uri": "https://localhost:8080/"
        },
        "id": "CFuPSVI7xZiL",
        "outputId": "72f319db-217d-4c7a-a6fb-3a4c3bb46770"
      },
      "execution_count": null,
      "outputs": [
        {
          "output_type": "stream",
          "name": "stdout",
          "text": [
            "False\n",
            "True\n"
          ]
        }
      ]
    },
    {
      "cell_type": "code",
      "source": [
        "# Bubble sort\n",
        "\n",
        "def BubbleSort(L):\n",
        "    n = len(L)\n",
        "    for i in range(n - 1):\n",
        "        for k in range(n - 1, i, -1):\n",
        "            if L[k] < L[k - 1]:\n",
        "                temp = L[k]\n",
        "                L[k] = L[k - 1]\n",
        "                L[k - 1] = temp\n",
        "    return L\n",
        "\n",
        "# Contoh:\n",
        "print(BubbleSort([5, 2, 9, 1, 7]))"
      ],
      "metadata": {
        "colab": {
          "base_uri": "https://localhost:8080/"
        },
        "id": "DNfGfyZ031cv",
        "outputId": "ee10d81f-7d51-45cd-f7f5-93b107c111b9"
      },
      "execution_count": null,
      "outputs": [
        {
          "output_type": "stream",
          "name": "stdout",
          "text": [
            "[1, 2, 5, 7, 9]\n"
          ]
        }
      ]
    },
    {
      "cell_type": "code",
      "source": [
        "def bubbleSort(alist):\n",
        "  for passnum in range(len(alist)-1,0,1):\n",
        "    for i in range(passnum):\n",
        "      if alist[i]>alist[i+1]:\n",
        "        temp = alist[i]\n",
        "        alist[i] = alist[i+1]\n",
        "        alist[i+1] = temp\n",
        "\n",
        "alist = [54,26,93,17,77,31,44,55,20]\n",
        "bubbleSort(alist)\n",
        "print(alist)"
      ],
      "metadata": {
        "colab": {
          "base_uri": "https://localhost:8080/"
        },
        "id": "Ir3UaM0CySRm",
        "outputId": "3c3bf7f7-de91-4fbe-cbd7-5b4f57eeeadc"
      },
      "execution_count": null,
      "outputs": [
        {
          "output_type": "stream",
          "name": "stdout",
          "text": [
            "[54, 26, 93, 17, 77, 31, 44, 55, 20]\n"
          ]
        }
      ]
    },
    {
      "cell_type": "code",
      "source": [
        "# Uji Keprimaan 1\n",
        "\n",
        "import math\n",
        "\n",
        "def is_prime(x: int) -> bool:\n",
        "    if x < 2:\n",
        "        return False  # 1 bukan prima\n",
        "    elif x == 2:\n",
        "        return True  # 2 adalah bilangan prima, kasus khusus\n",
        "    else:\n",
        "        y = int(math.sqrt(x))\n",
        "        test = True\n",
        "        while test and y >= 2:\n",
        "            if x % y == 0:\n",
        "                test = False\n",
        "            else:\n",
        "                y -= 1\n",
        "        return test and x >= 2\n",
        "\n",
        "# Contoh penggunaan\n",
        "angka = 29\n",
        "if is_prime(angka):\n",
        "    print(f\"{angka} adalah bilangan prima\")\n",
        "else:\n",
        "    print(f\"{angka} bukan bilangan prima\")"
      ],
      "metadata": {
        "colab": {
          "base_uri": "https://localhost:8080/"
        },
        "id": "BN8m-6z-D0Bm",
        "outputId": "976bcad3-cf81-482c-ceb0-1d534f269798"
      },
      "execution_count": null,
      "outputs": [
        {
          "output_type": "stream",
          "name": "stdout",
          "text": [
            "29 adalah bilangan prima\n"
          ]
        }
      ]
    },
    {
      "cell_type": "code",
      "source": [
        "# Uji Keprimaan 2\n",
        "x = int(input('Input satu angka bulat: '))\n",
        "\n",
        "angka_prima = True\n",
        "if((x == 0) or (x == 1)):\n",
        "  angka_prima = False\n",
        "else:\n",
        "  for i in range(2, (x//2)):\n",
        "    if ((x % i) == 0):\n",
        "      angka_prima = False\n",
        "      break\n",
        "\n",
        "if(angka_prima):\n",
        "  print(x, 'adalah angka prima')\n",
        "else:\n",
        "  print(x, 'bukan angka prima')"
      ],
      "metadata": {
        "colab": {
          "base_uri": "https://localhost:8080/"
        },
        "id": "_SXm_X_3zrqV",
        "outputId": "d12e93c6-3ba2-41eb-b05f-3df35ff51207"
      },
      "execution_count": null,
      "outputs": [
        {
          "output_type": "stream",
          "name": "stdout",
          "text": [
            "Input satu angka bulat: 7\n",
            "7 adalah angka prima\n"
          ]
        }
      ]
    },
    {
      "cell_type": "code",
      "source": [
        "# Polynomial\n",
        "\n",
        "def polinom(x0, a):\n",
        "    \"\"\"\n",
        "    Menghitung nilai p(x) pada x = x0.\n",
        "    Koefisien polinom sudah disimpan di list a, dengan indeks i sesuai pangkat.\n",
        "    Derajat polinom adalah n = len(a) - 1.\n",
        "    \"\"\"\n",
        "    p = 0\n",
        "    n = len(a) - 1\n",
        "    for i in range(n, -1, -1):\n",
        "        pangkat = 1\n",
        "        for j in range(i):\n",
        "            pangkat *= x0\n",
        "        p += a[i] * pangkat\n",
        "    return p\n",
        "\n",
        "# Contoh penggunaan\n",
        "a = [2, 3, 1]  # Koefisien polinom: 2 + 3x + 1x^2\n",
        "x0 = 2\n",
        "hasil = polinom(x0, a)\n",
        "print(f\"Nilai polinom pada x = {x0} adalah {hasil}\")"
      ],
      "metadata": {
        "colab": {
          "base_uri": "https://localhost:8080/"
        },
        "id": "Pgju3PehEZfP",
        "outputId": "5e8eb3e9-7728-4a3f-e9cc-78b7c872935f"
      },
      "execution_count": null,
      "outputs": [
        {
          "output_type": "stream",
          "name": "stdout",
          "text": [
            "Nilai polinom pada x = 2 adalah 12\n"
          ]
        }
      ]
    },
    {
      "cell_type": "code",
      "source": [
        "def polynomial_py(a, x):\n",
        "  result = 0\n",
        "\n",
        "  for n, a_n in enumerate(a):\n",
        "\n",
        "    x_power_n = 1\n",
        "    for i in range(n):\n",
        "      x_power_n *= x\n",
        "\n",
        "    result += a_n * x_power_n\n",
        "  return result"
      ],
      "metadata": {
        "id": "6-NQaT8U4-gZ"
      },
      "execution_count": null,
      "outputs": []
    },
    {
      "cell_type": "code",
      "source": [
        "a = [1,2,0,3]\n",
        "x = 1.5\n",
        "print(polynomial_py(a,x))"
      ],
      "metadata": {
        "colab": {
          "base_uri": "https://localhost:8080/"
        },
        "id": "cQPnjm065dJ0",
        "outputId": "127971a4-7d07-49b8-8164-062629315bc3"
      },
      "execution_count": null,
      "outputs": [
        {
          "output_type": "stream",
          "name": "stdout",
          "text": [
            "14.125\n"
          ]
        }
      ]
    },
    {
      "cell_type": "code",
      "source": [
        "# Improve\n",
        "\n",
        "def polinom2(a, n, x0):\n",
        "\n",
        "    # Asumsi: len(a) = n + 1\n",
        "    # Jika a = [a0, a1, a2, ..., an], maka:\n",
        "    # Derajat 0: a[0] (a0)\n",
        "    # Derajat 1: a[1] (a1)\n",
        "    # ...\n",
        "    # Derajat n: a[n] (an)\n",
        "\n",
        "    p = a[0]  # p <- a0\n",
        "    pangkat = 1.0\n",
        "\n",
        "    # for i <- 1 to n do\n",
        "    for i in range(1, n + 1):\n",
        "        pangkat = pangkat * x0\n",
        "        p = p + a[i] * pangkat\n",
        "\n",
        "    return p\n",
        "\n",
        "# Contoh Penggunaan:\n",
        "# Polinom: p(x) = 1 + 2x + 3x^2. Koefisien a = [a0, a1, a2] = [1, 2, 3]\n",
        "koefisien_a = [1.0, 2.0, 3.0]  # a0=1, a1=2, a2=3\n",
        "derajat_n = len(koefisien_a) - 1 # n=2\n",
        "x_nol = 2.0\n",
        "\n",
        "hasil = polinom2(koefisien_a, derajat_n, x_nol)\n",
        "# Hasil yang seharusnya: p(2) = 1 + 2*(2) + 3*(2^2) = 1 + 4 + 12 = 17\n",
        "print(f\"Polinom dengan koefisien {koefisien_a} pada x={x_nol} adalah: {hasil}\")"
      ],
      "metadata": {
        "colab": {
          "base_uri": "https://localhost:8080/"
        },
        "id": "A0H4fJ7lHCTF",
        "outputId": "4ffd12e2-9fe2-4e76-fbad-1f9d51dda3a8"
      },
      "execution_count": null,
      "outputs": [
        {
          "output_type": "stream",
          "name": "stdout",
          "text": [
            "Polinom dengan koefisien [1.0, 2.0, 3.0] pada x=2.0 adalah: 17.0\n"
          ]
        }
      ]
    },
    {
      "cell_type": "code",
      "source": [
        "def selection_sort(s):\n",
        "    \"\"\"\n",
        "    Mengurutkan array/list 's' menggunakan algoritma Selection Sort.\n",
        "    Input: s (list of integer)\n",
        "    Output: s (list of integer yang sudah terurut)\n",
        "    \"\"\"\n",
        "    n = len(s)\n",
        "\n",
        "    # Outer loop: jumlah pass sebanyak n-1\n",
        "    for i in range(n - 1):\n",
        "        # Cari elemen terkecil di dalam s[i], s[i+1], ..., s[n-1]\n",
        "        imin = i  # Elemen ke-i diasumsikan sebagai elemen terkecil sementara\n",
        "\n",
        "        # Inner loop: mencari elemen terkecil\n",
        "        for j in range(i + 1, n):\n",
        "            if s[j] < s[imin]:\n",
        "                imin = j\n",
        "\n",
        "        # Pertukarkan s[imin] dengan s[i]\n",
        "        temp = s[i]\n",
        "        s[i] = s[imin]\n",
        "        s[imin] = temp\n",
        "\n",
        "    return s\n",
        "\n",
        "# Contoh Penggunaan:\n",
        "data = [64, 25, 12, 22, 11]\n",
        "print(f\"Data sebelum diurutkan: {data}\")\n",
        "data_terurut = selection_sort(data)\n",
        "print(f\"Data setelah diurutkan: {data_terurut}\")"
      ],
      "metadata": {
        "colab": {
          "base_uri": "https://localhost:8080/"
        },
        "id": "UnBTG3bGGyz1",
        "outputId": "13325d45-d161-4486-d249-9fc309f10a3a"
      },
      "execution_count": null,
      "outputs": [
        {
          "output_type": "stream",
          "name": "stdout",
          "text": [
            "Data sebelum diurutkan: [64, 25, 12, 22, 11]\n",
            "Data setelah diurutkan: [11, 12, 22, 25, 64]\n"
          ]
        }
      ]
    },
    {
      "cell_type": "code",
      "source": [
        "# Pencocokan String\n",
        "\n",
        "def PencocokanString(P, T):\n",
        "    n = len(T)  # panjang teks\n",
        "    m = len(P)  # panjang pola\n",
        "    i = 0\n",
        "    ketemu = False\n",
        "\n",
        "    while i <= n - m and not ketemu:\n",
        "        j = 0\n",
        "        while j < m and P[j] == T[i + j]:\n",
        "            j += 1\n",
        "\n",
        "        if j == m:\n",
        "            ketemu = True  # pola ditemukan\n",
        "        else:\n",
        "            i += 1  # geser pattern ke kanan satu karakter\n",
        "\n",
        "    if ketemu:\n",
        "        idx = i + 1  # posisi (1-based)\n",
        "    else:\n",
        "        idx = -1     # tidak ditemukan\n",
        "\n",
        "    return idx\n",
        "\n",
        "\n",
        "# Contoh penggunaan\n",
        "T = \"algoritma dan struktur data\"\n",
        "P = \"struktur\"\n",
        "\n",
        "hasil = PencocokanString(P, T)\n",
        "\n",
        "if hasil != -1:\n",
        "    print(f\"Pola '{P}' ditemukan pada posisi ke-{hasil}\")\n",
        "else:\n",
        "    print(f\"Pola '{P}' tidak ditemukan dalam teks.\")"
      ],
      "metadata": {
        "colab": {
          "base_uri": "https://localhost:8080/"
        },
        "id": "DrjNHx-F7rfl",
        "outputId": "58f52fe8-ffac-4e52-c28a-aff99bc35111"
      },
      "execution_count": null,
      "outputs": [
        {
          "output_type": "stream",
          "name": "stdout",
          "text": [
            "Pola 'struktur' ditemukan pada posisi ke-15\n"
          ]
        }
      ]
    },
    {
      "cell_type": "code",
      "source": [
        "import math\n",
        "\n",
        "class Point:\n",
        "    \"\"\"Representasi sederhana untuk sebuah Titik dengan koordinat x dan y.\"\"\"\n",
        "    def __init__(self, x, y):\n",
        "        self.x = x\n",
        "        self.y = y\n",
        "\n",
        "    def __repr__(self):\n",
        "        return f\"({self.x}, {self.y})\"\n",
        "\n",
        "def brute_force_closest_points(P):\n",
        "    \"\"\"\n",
        "    Mencari pasangan titik terdekat dalam list P menggunakan Brute Force.\n",
        "    Input: P (list of Point)\n",
        "    Output: (P1, P2) - pasangan titik terdekat\n",
        "    \"\"\"\n",
        "    n = len(P)\n",
        "    if n < 2:\n",
        "        return None, None\n",
        "\n",
        "    dmin = float('inf')  # dmin <- tak hingga (∞)\n",
        "    P1_closest = None\n",
        "    P2_closest = None\n",
        "\n",
        "    # for i <- 1 to n - 1 do (indeks 0 hingga n-2 di Python)\n",
        "    for i in range(n - 1):\n",
        "        # for j <- i + 1 to n do (indeks i+1 hingga n-1 di Python)\n",
        "        for j in range(i + 1, n):\n",
        "            # Hitung jarak d\n",
        "            # d <- sqrt((xi - xj)^2 + (yi - yj)^2)\n",
        "            d = math.sqrt((P[i].x - P[j].x)**2 + (P[i].y - P[j].y)**2)\n",
        "\n",
        "            # if d < dmin then\n",
        "            if d < dmin:\n",
        "                dmin = d\n",
        "                P1_closest = P[i]\n",
        "                P2_closest = P[j]\n",
        "\n",
        "    # return P1, P2 (pasangan titik) atau index1, index2 (indeks titik)\n",
        "    # Kita kembalikan pasangan titiknya P1 dan P2\n",
        "    return P1_closest, P2_closest, dmin\n",
        "\n",
        "# Contoh Penggunaan:\n",
        "points = [\n",
        "    Point(1.0, 1.0),\n",
        "    Point(2.0, 2.0),\n",
        "    Point(4.0, 5.0),\n",
        "    Point(0.0, 0.0)\n",
        "]\n",
        "\n",
        "titik1, titik2, jarak = brute_force_closest_points(points)\n",
        "\n",
        "if titik1 and titik2:\n",
        "    print(f\"Dua titik terdekat: {titik1} dan {titik2}\")\n",
        "    print(f\"Jarak terdekat: {jarak:.4f}\")\n",
        "else:\n",
        "    print(\"Daftar titik terlalu sedikit.\")"
      ],
      "metadata": {
        "colab": {
          "base_uri": "https://localhost:8080/"
        },
        "id": "YLe4T_e9HINP",
        "outputId": "84b3a2c9-f886-4b6c-e706-69a818a1c844"
      },
      "execution_count": null,
      "outputs": [
        {
          "output_type": "stream",
          "name": "stdout",
          "text": [
            "Dua titik terdekat: (1.0, 1.0) dan (2.0, 2.0)\n",
            "Jarak terdekat: 1.4142\n"
          ]
        }
      ]
    },
    {
      "cell_type": "code",
      "source": [
        "def brute_force_string_match(T, P):\n",
        "    \"\"\"\n",
        "    Mencari indeks karakter pertama di teks T yang memulai substring yang cocok\n",
        "    dengan pola P.\n",
        "    Input: T (string - Text), P (string - Pattern)\n",
        "    Output: i (integer) - indeks kecocokan pertama, atau -1 jika tidak berhasil\n",
        "    \"\"\"\n",
        "    n = len(T)\n",
        "    m = len(P)\n",
        "\n",
        "    # for i <- 0 to n - m do\n",
        "    for i in range(n - m + 1):\n",
        "        j = 0\n",
        "        # while j < m and P[j] == T[i + j] do\n",
        "        while j < m and P[j] == T[i + j]:\n",
        "            j += 1\n",
        "\n",
        "        # if j = m return i (kecocokan ditemukan)\n",
        "        if j == m:\n",
        "            return i\n",
        "\n",
        "    # return -1 (pencarian tidak berhasil)\n",
        "    return -1\n",
        "\n",
        "# Contoh Penggunaan:\n",
        "Text = \"AABAACAADAABAABA\"\n",
        "Pattern = \"AABA\"\n",
        "index_match = brute_force_string_match(Text, Pattern)\n",
        "\n",
        "print(f\"Text: '{Text}', Pattern: '{Pattern}'\")\n",
        "if index_match != -1:\n",
        "    print(f\"Pola ditemukan pada indeks: {index_match}\")\n",
        "else:\n",
        "    print(\"Pola tidak ditemukan.\")"
      ],
      "metadata": {
        "colab": {
          "base_uri": "https://localhost:8080/"
        },
        "id": "F4ON5maiHMoR",
        "outputId": "9768b35c-742f-4dbc-8cdb-40dc121e501b"
      },
      "execution_count": null,
      "outputs": [
        {
          "output_type": "stream",
          "name": "stdout",
          "text": [
            "Text: 'AABAACAADAABAABA', Pattern: 'AABA'\n",
            "Pola ditemukan pada indeks: 0\n"
          ]
        }
      ]
    },
    {
      "cell_type": "code",
      "source": [
        "def Sequential_Search(dlist, item):\n",
        "    pos = 0\n",
        "    found = False\n",
        "\n",
        "    while pos < len(dlist) and not found:\n",
        "        if dlist[pos] == item:\n",
        "            found = True\n",
        "        else:\n",
        "            pos = pos + 1\n",
        "\n",
        "    return found, pos\n",
        "\n",
        "print(Sequential_Search([11,23,58,31,56,77,43,12,65,19],31))"
      ],
      "metadata": {
        "colab": {
          "base_uri": "https://localhost:8080/"
        },
        "id": "9xB04pj4Kg4c",
        "outputId": "be2a5b34-2061-4c9d-f4de-42ae9e557bae"
      },
      "execution_count": null,
      "outputs": [
        {
          "output_type": "stream",
          "name": "stdout",
          "text": [
            "(True, 3)\n"
          ]
        }
      ]
    },
    {
      "cell_type": "code",
      "source": [
        "# Get matching substrings in string\n",
        "# initializing string\n",
        "test_str = \"GFG is good website\";\n",
        "\n",
        "# initializing potential substrings\n",
        "test_list = [\"GFG\", \"site\", \"CS\", \"Geeks\", \"Tutorial\"]\n",
        "\n",
        "# printing original string\n",
        "print(\"The original string is : \" + test_str)\n",
        "\n",
        "# printing potential strings list\n",
        "print(\"The original list is : \" + str(test_list))\n",
        "\n",
        "# using list comprehension\n",
        "# Get matching substrings in string\n",
        "res = [sub for sub in test_list if sub in test_str]\n",
        "\n",
        "# printing result\n",
        "print(\"The list of found substrings : \" + str(res))\n",
        "# Output:\n",
        "# The original string is : GFG is good website\n",
        "# The original list is : ['GFG', 'site', 'CS', 'Geeks', 'Tutorial']\n",
        "# The list of found substrings : ['GFG', 'site']"
      ],
      "metadata": {
        "colab": {
          "base_uri": "https://localhost:8080/"
        },
        "id": "MLTW-8bNKneJ",
        "outputId": "075ce8ac-e6fe-491c-cb3a-982f64e0c3a5"
      },
      "execution_count": null,
      "outputs": [
        {
          "output_type": "stream",
          "name": "stdout",
          "text": [
            "The original string is : GFG is good website\n",
            "The original list is : ['GFG', 'site', 'CS', 'Geeks', 'Tutorial']\n",
            "The list of found substrings : ['GFG', 'site']\n"
          ]
        }
      ]
    },
    {
      "cell_type": "code",
      "source": [
        "def string_match(string, sub_str):\n",
        "    # Brute force string matching\n",
        "    for i in range(len(string) - len(sub_str) + 1):\n",
        "        index = i # index Point to the 1 Three characters to be compared\n",
        "        for j in range(len(sub_str)):\n",
        "            if string[index] == sub_str[j]:\n",
        "                index += 1\n",
        "            else:\n",
        "                break\n",
        "        if index - i == len(sub_str):\n",
        "            return i\n",
        "    return -1\n",
        "\n",
        "if __name__ == \"__main__\":\n",
        "    print(string_match(\"adbcbcdc\", \"bdc\"))"
      ],
      "metadata": {
        "colab": {
          "base_uri": "https://localhost:8080/"
        },
        "id": "9tEUeI9cKptf",
        "outputId": "1856b6c0-065a-48a5-b19a-69375709487f"
      },
      "execution_count": null,
      "outputs": [
        {
          "output_type": "stream",
          "name": "stdout",
          "text": [
            "-1\n"
          ]
        }
      ]
    },
    {
      "cell_type": "code",
      "source": [
        "from math import sqrt\n",
        "from random import randint\n",
        "\n",
        "titik = []\n",
        "n = int(input('Masukkan jumlah titik yang ingin Anda cari jaraknya: '))\n",
        "for i in range(0, n):\n",
        "    titik.append([randint(0,100),randint(0,100)])\n",
        "print('\\nTitik:',titik)\n",
        "\n",
        "def hitungjarak(lis):\n",
        "    lisjarak = []\n",
        "    for i in range(0,len(lis)-1):\n",
        "        for j in range(i+1,len(lis)):\n",
        "            jarak = sqrt((lis[i][0]-lis[j][0])**2 + (lis[i][1]-lis[j][1])**2)\n",
        "            lisjarak.append(jarak)\n",
        "            print('Titik:',lis[i], 'Titik:',lis[j], ':',jarak)\n",
        "    return min(lisjarak)\n",
        "\n",
        "print('Jarak terdekat:\\n',hitungjarak(titik))"
      ],
      "metadata": {
        "colab": {
          "base_uri": "https://localhost:8080/"
        },
        "id": "kZT6Ng1MKsAA",
        "outputId": "25b27ae8-b12c-43fd-9d4c-d5c4dc7138c0"
      },
      "execution_count": null,
      "outputs": [
        {
          "output_type": "stream",
          "name": "stdout",
          "text": [
            "Masukkan jumlah titik yang ingin Anda cari jaraknya: 9\n",
            "\n",
            "Titik: [[61, 94], [71, 13], [22, 84], [91, 97], [46, 66], [95, 58], [49, 15], [3, 19], [80, 90]]\n",
            "Titik: [61, 94] Titik: [71, 13] : 81.61494961096282\n",
            "Titik: [61, 94] Titik: [22, 84] : 40.26164427839479\n",
            "Titik: [61, 94] Titik: [91, 97] : 30.14962686336267\n",
            "Titik: [61, 94] Titik: [46, 66] : 31.76476034853718\n",
            "Titik: [61, 94] Titik: [95, 58] : 49.51767361255979\n",
            "Titik: [61, 94] Titik: [49, 15] : 79.90619500389191\n",
            "Titik: [61, 94] Titik: [3, 19] : 94.81033698917012\n",
            "Titik: [61, 94] Titik: [80, 90] : 19.4164878389476\n",
            "Titik: [71, 13] Titik: [22, 84] : 86.2670273047588\n",
            "Titik: [71, 13] Titik: [91, 97] : 86.34813257969161\n",
            "Titik: [71, 13] Titik: [46, 66] : 58.60034129593445\n",
            "Titik: [71, 13] Titik: [95, 58] : 51.0\n",
            "Titik: [71, 13] Titik: [49, 15] : 22.090722034374522\n",
            "Titik: [71, 13] Titik: [3, 19] : 68.26419266350405\n",
            "Titik: [71, 13] Titik: [80, 90] : 77.52418977325722\n",
            "Titik: [22, 84] Titik: [91, 97] : 70.21395872616783\n",
            "Titik: [22, 84] Titik: [46, 66] : 30.0\n",
            "Titik: [22, 84] Titik: [95, 58] : 77.4919350642375\n",
            "Titik: [22, 84] Titik: [49, 15] : 74.09453421137081\n",
            "Titik: [22, 84] Titik: [3, 19] : 67.72001181334805\n",
            "Titik: [22, 84] Titik: [80, 90] : 58.309518948453004\n",
            "Titik: [91, 97] Titik: [46, 66] : 54.644304369257\n",
            "Titik: [91, 97] Titik: [95, 58] : 39.20459156782532\n",
            "Titik: [91, 97] Titik: [49, 15] : 92.13034245024816\n",
            "Titik: [91, 97] Titik: [3, 19] : 117.5925167687128\n",
            "Titik: [91, 97] Titik: [80, 90] : 13.038404810405298\n",
            "Titik: [46, 66] Titik: [95, 58] : 49.64876634922564\n",
            "Titik: [46, 66] Titik: [49, 15] : 51.088159097779204\n",
            "Titik: [46, 66] Titik: [3, 19] : 63.702433234531945\n",
            "Titik: [46, 66] Titik: [80, 90] : 41.617304093369626\n",
            "Titik: [95, 58] Titik: [49, 15] : 62.96824596572466\n",
            "Titik: [95, 58] Titik: [3, 19] : 99.92497185388645\n",
            "Titik: [95, 58] Titik: [80, 90] : 35.34119409414458\n",
            "Titik: [49, 15] Titik: [3, 19] : 46.17358552246078\n",
            "Titik: [49, 15] Titik: [80, 90] : 81.15417426109393\n",
            "Titik: [3, 19] Titik: [80, 90] : 104.7377677822093\n",
            "Jarak terdekat:\n",
            " 13.038404810405298\n"
          ]
        }
      ]
    },
    {
      "cell_type": "code",
      "source": [
        "bilangan = int(input('Masukkan bilangan: '))\n",
        "pangkat = int(input('Masukkan pangkat: '))\n",
        "\n",
        "def hitung_pangkat(bilangan, pangkat):\n",
        "    if pangkat > 1:\n",
        "        return bilangan * hitung_pangkat(bilangan, pangkat - 1)\n",
        "\n",
        "    return bilangan\n",
        "\n",
        "hasil = hitung_pangkat(bilangan, pangkat)\n",
        "print(f'Hasil = {hasil}')"
      ],
      "metadata": {
        "colab": {
          "base_uri": "https://localhost:8080/"
        },
        "id": "sGzdgzbIKuQM",
        "outputId": "4f1b9716-0196-446a-94b4-76746a3d7c9f"
      },
      "execution_count": null,
      "outputs": [
        {
          "output_type": "stream",
          "name": "stdout",
          "text": [
            "Masukkan bilangan: 2\n",
            "Masukkan pangkat: 5\n",
            "Hasil = 32\n"
          ]
        }
      ]
    },
    {
      "cell_type": "code",
      "source": [
        "#Find Maximum Value in Linear Search\n",
        "def find_maximum(lst):\n",
        "    max = None\n",
        "    for el in lst:\n",
        "        if max == None or el > max:\n",
        "            max = el\n",
        "    return max\n",
        "\n",
        "test_scores = [88, 93, 75, 100, 80, 67, 71, 92, 90, 83]\n",
        "print(find_maximum(test_scores)) # returns 100"
      ],
      "metadata": {
        "colab": {
          "base_uri": "https://localhost:8080/"
        },
        "id": "p0_qDBxUK4z4",
        "outputId": "a1bddc16-9696-48e7-81c2-70a38dbb1307"
      },
      "execution_count": null,
      "outputs": [
        {
          "output_type": "stream",
          "name": "stdout",
          "text": [
            "100\n"
          ]
        }
      ]
    },
    {
      "cell_type": "code",
      "source": [
        "%matplotlib inline\n",
        "import matplotlib.pyplot as plt\n",
        "\n",
        "def visualize_tour(tour, style='bo-'):\n",
        "    if len(tour) > 1000: plt.figure(figsize=(15, 10))\n",
        "    start = tour[0:1]\n",
        "    visualize_segment(tour + start, style)\n",
        "    visualize_segment(start, 'rD')\n",
        "\n",
        "def visualize_segment(segment, style='bo-'):\n",
        "    plt.plot([X(c) for c in segment], [Y(c) for c in segment], style, clip_on=False)\n",
        "    plt.axis('scaled')\n",
        "    plt.axis('off')\n",
        "\n",
        "def X(city): \"X axis\"; return city.real\n",
        "\n",
        "def Y(city): \"Y axis\"; return city.imag"
      ],
      "metadata": {
        "id": "K6lrFcGkK7Ds"
      },
      "execution_count": null,
      "outputs": []
    },
    {
      "cell_type": "code",
      "source": [
        "n = int(input('Masukkan nilai n: '))\n",
        "\n",
        "def hitung_faktorial (n):\n",
        "    if n > 2:\n",
        "        return n * hitung_faktorial(n - 1)\n",
        "\n",
        "    return 2\n",
        "\n",
        "faktorial = hitung_faktorial(n)\n",
        "print(f'{n}! = {faktorial}')"
      ],
      "metadata": {
        "colab": {
          "base_uri": "https://localhost:8080/"
        },
        "id": "4pQ3icjuK9lR",
        "outputId": "8c9b1f73-4f66-4485-9782-b5149c73d86b"
      },
      "execution_count": null,
      "outputs": [
        {
          "output_type": "stream",
          "name": "stdout",
          "text": [
            "Masukkan nilai n: 10\n",
            "10! = 3628800\n"
          ]
        }
      ]
    },
    {
      "cell_type": "code",
      "source": [
        "def bubbleSort(alist):\n",
        "    for passnum in range(len(alist)-1,0,-1):\n",
        "        for i in range(passnum):\n",
        "            if alist[i]>alist[i+1]:\n",
        "                temp = alist[i]\n",
        "                alist[i] = alist[i+1]\n",
        "                alist[i+1] = temp\n",
        "\n",
        "alist = [54,26,93,17,77,31,44,55,20]\n",
        "bubbleSort(alist)\n",
        "print(alist)\n",
        "# Output: [17, 20, 26, 31, 44, 54, 55, 77, 93]"
      ],
      "metadata": {
        "colab": {
          "base_uri": "https://localhost:8080/"
        },
        "id": "u3SWMkDULA2f",
        "outputId": "eb49c72a-7273-41a0-c7a5-b1233fb85a57"
      },
      "execution_count": null,
      "outputs": [
        {
          "output_type": "stream",
          "name": "stdout",
          "text": [
            "[17, 20, 26, 31, 44, 54, 55, 77, 93]\n"
          ]
        }
      ]
    },
    {
      "cell_type": "code",
      "source": [
        "import random\n",
        "from itertools import permutations\n",
        "alltours = permutations\n",
        "\n",
        "def distance_tour(aTour):\n",
        "    return sum(distance_points(aTour[i - 1], aTour[i])\n",
        "               for i in range(len(aTour)))\n",
        "\n",
        "aCity = complex # Using complex numbers to represent (x, y) coordinates\n",
        "\n",
        "def distance_points(first, second):\n",
        "    return abs(first - second)\n",
        "\n",
        "def generate_cities (number_of_cities):\n",
        "    seed = 111; width = 500; height = 300\n",
        "    random.seed(number_of_cities, seed)\n",
        "    return frozenset(aCity(random.randint(1, width), random.randint(1,height))\n",
        "                     for c in range(number_of_cities))"
      ],
      "metadata": {
        "id": "mCx3aVdrLDke"
      },
      "execution_count": null,
      "outputs": []
    },
    {
      "cell_type": "code",
      "source": [
        "from time import process_time\n",
        "from collections import Counter\n",
        "\n",
        "def tsp(algorithm, cities):\n",
        "    t0 = process_time()\n",
        "    tour = algorithm(cities)\n",
        "    t1 = process_time()\n",
        "    assert Counter(tour) == Counter(cities)\n",
        "    visualize_tour(tour)\n",
        "    print(\"{}:{} cities => tour length {:.0f}(in {:.3f} sec)\".format(name(algorithm), len(tour), distance_tour(tour), t1-t0))\n",
        "\n",
        "def name(algorithm):\n",
        "    return algorithm.__name__.replace('_tsp', '')"
      ],
      "metadata": {
        "id": "jn99CyyULHD3"
      },
      "execution_count": null,
      "outputs": []
    },
    {
      "cell_type": "code",
      "source": [
        "def brute_force(cities):\n",
        "    \"Generate all possible tours of the cities and choose the shortest tour.\"\n",
        "    return shortest_tour(alltours(cities))\n",
        "\n",
        "def shortest_tour(tours):\n",
        "    return min(tours, key=distance_tour)\n",
        "\n",
        "# Contoh Pemanggilan (Sesuai output di gambar)\n",
        "# Catatan: Fungsi `tsp`, `generate_cities`, `alltours`, `distance_tour`\n",
        "# dan `visualize_tour` harus sudah didefinisikan sebelumnya (di gambar sebelumnya).\n",
        "# tsp(brute_force, generate_cities(10))\n",
        "\n",
        "# Output yang terlihat di gambar:\n",
        "# brute_force:10 cities => tour length 1218(in 26.938 sec)"
      ],
      "metadata": {
        "id": "PAGlXsbiLIoJ"
      },
      "execution_count": null,
      "outputs": []
    }
  ]
}