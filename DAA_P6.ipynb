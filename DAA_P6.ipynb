{
  "nbformat": 4,
  "nbformat_minor": 0,
  "metadata": {
    "colab": {
      "provenance": []
    },
    "kernelspec": {
      "name": "python3",
      "display_name": "Python 3"
    },
    "language_info": {
      "name": "python"
    }
  },
  "cells": [
    {
      "cell_type": "code",
      "execution_count": null,
      "metadata": {
        "colab": {
          "base_uri": "https://localhost:8080/"
        },
        "id": "-UsJrtq_s3-Y",
        "outputId": "5d7245e3-2072-402d-b6af-fca2449b1e4e"
      },
      "outputs": [
        {
          "output_type": "stream",
          "name": "stdout",
          "text": [
            "Fibonacci sequence:\n",
            "0\n",
            "1\n",
            "1\n",
            "2\n",
            "3\n",
            "5\n",
            "8\n",
            "13\n",
            "21\n",
            "34\n",
            "55\n",
            "89\n",
            "144\n",
            "233\n",
            "377\n",
            "610\n",
            "987\n",
            "1597\n",
            "2584\n",
            "4181\n"
          ]
        }
      ],
      "source": [
        "n1, n2 = 0, 1\n",
        "count = 0\n",
        "\n",
        "if nterms <= 0:\n",
        "  print(\"Please enter a positive integer\")\n",
        "elif nterms == 1:\n",
        "  print(\"Fibonacci sequence upto\",nterms,\":\")\n",
        "  print(n1)\n",
        "else:\n",
        "  print(\"Fibonacci sequence:\")\n",
        "  while count < nterms:\n",
        "    print(n1)\n",
        "    nth = n1 + n2\n",
        "    n1 = n2\n",
        "    n2 = nth\n",
        "    count += 1"
      ]
    },
    {
      "cell_type": "code",
      "source": [
        "def recur_fibo(n):\n",
        "  if n <= 1:\n",
        "    return n\n",
        "  else:\n",
        "    return(recur_fibo(n-1) + recur_fibo(n2))\n",
        "\n",
        "nterms = 20\n",
        "\n",
        "if nterms <= 0:\n",
        "  print(\"Please enter a positive integer\")\n",
        "else:\n",
        "  print(\"Fibonacci sequence:\")\n",
        "  for i in range(nterms):\n",
        "    print(recur_fibo(i))"
      ],
      "metadata": {
        "colab": {
          "base_uri": "https://localhost:8080/"
        },
        "id": "cmNkro1RxOI_",
        "outputId": "02fd129c-6bf3-4093-e3b3-6ecda8ae27b0"
      },
      "execution_count": null,
      "outputs": [
        {
          "output_type": "stream",
          "name": "stdout",
          "text": [
            "Fibonacci sequence:\n",
            "0\n",
            "1\n",
            "2\n",
            "3\n",
            "4\n",
            "5\n",
            "6\n",
            "7\n",
            "8\n",
            "9\n",
            "10\n",
            "11\n",
            "12\n",
            "13\n",
            "14\n",
            "15\n",
            "16\n",
            "17\n",
            "18\n",
            "19\n"
          ]
        }
      ]
    },
    {
      "cell_type": "code",
      "source": [
        "def recur_fibo(n):\n",
        "  if n <= 1:\n",
        "    return n\n",
        "  else:\n",
        "    return(recur_fibo(n-1) + recur_fibo(n-2))\n",
        "\n",
        "nterms = 20\n",
        "\n",
        "if nterms <= 0:\n",
        "  print(\"Please enter a positive integer\")\n",
        "else:\n",
        "  print(\"Fibonacci sequence:\")\n",
        "  for i in range(nterms):\n",
        "    print(recur_fibo(i))"
      ],
      "metadata": {
        "colab": {
          "base_uri": "https://localhost:8080/"
        },
        "id": "ZeOimzUcywch",
        "outputId": "04a8cc78-6a78-4df4-f357-fcb2620d554d"
      },
      "execution_count": null,
      "outputs": [
        {
          "output_type": "stream",
          "name": "stdout",
          "text": [
            "Fibonacci sequence:\n",
            "0\n",
            "1\n",
            "1\n",
            "2\n",
            "3\n",
            "5\n",
            "8\n",
            "13\n",
            "21\n",
            "34\n",
            "55\n",
            "89\n",
            "144\n",
            "233\n",
            "377\n",
            "610\n",
            "987\n",
            "1597\n",
            "2584\n",
            "4181\n"
          ]
        }
      ]
    },
    {
      "cell_type": "code",
      "source": [
        "def greedy_algorithm(cities, start=None):\n",
        "    C = start or first(cities)\n",
        "    tour = [C]\n",
        "    unvisited = set(cities - {C})\n",
        "    while unvisited:\n",
        "        C = nearest_neighbor(C, unvisited)\n",
        "        tour.append(C)\n",
        "        unvisited.remove(C)\n",
        "    return tour\n",
        "\n",
        "def first(collection):\n",
        "    return next(iter(collection))\n",
        "\n",
        "def nearest_neighbor(A, cities):\n",
        "    return min(cities, key=lambda C: distance_points(C, A))"
      ],
      "metadata": {
        "id": "aDQBV2GE-hX3"
      },
      "execution_count": null,
      "outputs": []
    },
    {
      "cell_type": "code",
      "source": [
        "import matplotlib\n",
        "import matplotlib.pyplot as plt\n",
        "import random\n",
        "import time\n",
        "import itertools"
      ],
      "metadata": {
        "id": "1BJlolZG29rP"
      },
      "execution_count": null,
      "outputs": []
    },
    {
      "cell_type": "code",
      "source": [
        "def exact_TSP(cities):\n",
        "  \"Generate all possible tours of the cities and choose the shprtest one.\"\n",
        "  return shortest(alltours(cities))\n",
        "\n",
        "def shortest(tours):\n",
        "  \"Return the tour with the minimum total distance.\"\n",
        "  return min(tours, key=total_distance)"
      ],
      "metadata": {
        "id": "GRqTOOcf3wTf"
      },
      "execution_count": null,
      "outputs": []
    },
    {
      "cell_type": "code",
      "source": [
        "def exact_TSP(cities):\n",
        "  \"Generate all possible tours of the cities and choose the shortest one.\"\n",
        "  return shortest(alltours(cities))\n",
        "\n",
        "def shortest(tours):\n",
        "  \"Return the tour with the minimum total distance.\"\n",
        "  return min(tours, key=total_distance)"
      ],
      "metadata": {
        "id": "OEiGmTzB4_57"
      },
      "execution_count": null,
      "outputs": []
    },
    {
      "cell_type": "code",
      "source": [
        "alltours = itertools.permutations\n",
        "\n",
        "cities = (1, 2, 3)\n",
        "list(alltours(cities))\n",
        "\n",
        "[(1, 2, 3), (1, 3, 2), (2, 1, 3), (2, 3, 1), (3, 1, 2), (3, 2, 1)]"
      ],
      "metadata": {
        "colab": {
          "base_uri": "https://localhost:8080/"
        },
        "id": "-T4gyn0_6lXY",
        "outputId": "02a20a86-6cef-4e0d-9e29-41f556815ad0"
      },
      "execution_count": null,
      "outputs": [
        {
          "output_type": "execute_result",
          "data": {
            "text/plain": [
              "[(1, 2, 3), (1, 3, 2), (2, 1, 3), (2, 3, 1), (3, 1, 2), (3, 2, 1)]"
            ]
          },
          "metadata": {},
          "execution_count": 19
        }
      ]
    },
    {
      "cell_type": "code",
      "source": [
        "def total_distance(tour):\n",
        "  \"The total distance between each pair of consecutive cities in he tour.\"\n",
        "  return  sum(distance(tour[i], tour[i-1]) for i in range(len(tour)))"
      ],
      "metadata": {
        "id": "mpqyk7GQ7KV7"
      },
      "execution_count": null,
      "outputs": []
    },
    {
      "cell_type": "code",
      "source": [
        "City = complex\n",
        "\n",
        "def distance(A, B):\n",
        "  \"The distance between two points.\"\n",
        "  return abs(A - B)"
      ],
      "metadata": {
        "id": "Ry0fjxz38SbH"
      },
      "execution_count": null,
      "outputs": []
    },
    {
      "cell_type": "code",
      "source": [
        "A = City(300, 0)\n",
        "B = City(0, 400)\n",
        "distance(A, B)"
      ],
      "metadata": {
        "colab": {
          "base_uri": "https://localhost:8080/"
        },
        "id": "D5fF-6DI8cgW",
        "outputId": "67357847-2e85-4a86-f1e7-58f3877ecb00"
      },
      "execution_count": null,
      "outputs": [
        {
          "output_type": "execute_result",
          "data": {
            "text/plain": [
              "500.0"
            ]
          },
          "metadata": {},
          "execution_count": 44
        }
      ]
    },
    {
      "cell_type": "code",
      "source": [
        "def Cities(n):\n",
        "    \"Make a set of n cities, each with random coordinates.\"\n",
        "    return set(City(random.randrange(10, 890), random.randrange(10, 590)) for c in range(n))\n",
        "\n",
        "# Let's make some standard sets of cities of various sizes.\n",
        "# We'll set the random seed so that these sets are the same every time we run this notebook.\n",
        "random.seed('seed')\n",
        "cities8, cities10, cities100, cities1000 = Cities(8), Cities(10), Cities(100), Cities(1000)"
      ],
      "metadata": {
        "id": "4o9yYzPJ8vnQ"
      },
      "execution_count": null,
      "outputs": []
    },
    {
      "cell_type": "code",
      "source": [
        "tour = exact_TSP(cities8)\n",
        "\n",
        "print(tour)\n",
        "print(total_distance(tour))"
      ],
      "metadata": {
        "colab": {
          "base_uri": "https://localhost:8080/"
        },
        "id": "4Ga6XTNK-Gj0",
        "outputId": "0d8e7d7f-98ee-456b-e6b8-577ecfffa292"
      },
      "execution_count": null,
      "outputs": [
        {
          "output_type": "stream",
          "name": "stdout",
          "text": [
            "[(551+542j), (684+435j), (800+430j), (498+96j), (151+70j), (54+361j), (252+365j), (303+506j)]\n",
            "1990.3883723135523\n"
          ]
        }
      ]
    },
    {
      "cell_type": "code",
      "source": [
        "# Try All Non-Redundant Tours\n",
        "def alltours(cities):\n",
        "    \"Return a list of tours, each a permutation of cities, but each one starting with the same city.\"\n",
        "    start = first(cities)\n",
        "    return [[start] + list(tour)\n",
        "            for tour in itertools.permutations(cities - {start})]\n",
        "\n",
        "def first(collection):\n",
        "    \"Start iterating over collection, and return the first element.\"\n",
        "    for x in collection: return x"
      ],
      "metadata": {
        "id": "oV71kmba_K3R"
      },
      "execution_count": null,
      "outputs": []
    },
    {
      "cell_type": "code",
      "source": [
        "alltours({1, 2, 3})"
      ],
      "metadata": {
        "colab": {
          "base_uri": "https://localhost:8080/"
        },
        "id": "HSzJk674_9gF",
        "outputId": "3f12686d-bf22-41ba-ae62-c19dc499eb17"
      },
      "execution_count": null,
      "outputs": [
        {
          "output_type": "execute_result",
          "data": {
            "text/plain": [
              "[[1, 2, 3], [1, 3, 2]]"
            ]
          },
          "metadata": {},
          "execution_count": 48
        }
      ]
    },
    {
      "cell_type": "code",
      "source": [
        "alltours({1, 2, 3, 4})"
      ],
      "metadata": {
        "colab": {
          "base_uri": "https://localhost:8080/"
        },
        "id": "TVp66iKpAVnB",
        "outputId": "44c5131e-7918-4a63-b420-0264271ce901"
      },
      "execution_count": null,
      "outputs": [
        {
          "output_type": "execute_result",
          "data": {
            "text/plain": [
              "[[1, 2, 3, 4],\n",
              " [1, 2, 4, 3],\n",
              " [1, 3, 2, 4],\n",
              " [1, 3, 4, 2],\n",
              " [1, 4, 2, 3],\n",
              " [1, 4, 3, 2]]"
            ]
          },
          "metadata": {},
          "execution_count": 49
        }
      ]
    },
    {
      "cell_type": "code",
      "source": [
        "tour = exact_TSP(cities8)\n",
        "\n",
        "print(tour)\n",
        "print(total_distance(tour))"
      ],
      "metadata": {
        "colab": {
          "base_uri": "https://localhost:8080/"
        },
        "id": "pjFat9qnAYd0",
        "outputId": "03c5acc0-6dda-4878-9200-1a288dd0f97a"
      },
      "execution_count": null,
      "outputs": [
        {
          "output_type": "stream",
          "name": "stdout",
          "text": [
            "[(551+542j), (684+435j), (800+430j), (498+96j), (151+70j), (54+361j), (252+365j), (303+506j)]\n",
            "1990.3883723135523\n"
          ]
        }
      ]
    },
    {
      "cell_type": "code",
      "source": [
        "# Plotting\n",
        "import time\n",
        "\n",
        "def plot_tour(algorithm, cities):\n",
        "    \"Apply a TSP algorithm to cities, and plot the resulting tour.\"\n",
        "    # Find the solution and time how long it takes\n",
        "    t0 = time.time()\n",
        "    tour = algorithm(cities)\n",
        "    t1 = time.time()\n",
        "    # Plot the tour as blue lines between blue circles, and the starting city as a red square.\n",
        "    plotline(list(tour) + [tour[0]])\n",
        "    plotline([tour[0]], 'rs')\n",
        "    plt.show()\n",
        "    print(\"{} city tour; total distance = {:.1f}; time = {:.3f} secs for {}\".format(\n",
        "        len(tour), total_distance(tour), t1-t0, algorithm.__name__))\n",
        "\n",
        "def plotline(points, style='bo-'):\n",
        "    \"Plot a list of points (complex numbers) in the 2-D plane.\"\n",
        "    X, Y = XY(points)\n",
        "    plt.plot(X, Y, style)\n",
        "\n",
        "def XY(points):\n",
        "    \"Given a list of points, return two lists: X coordinates, and Y coordinates.\"\n",
        "    return [p.real for p in points], [p.imag for p in points]\n",
        "\n",
        "plot_tour(exact_TSP, cities8)"
      ],
      "metadata": {
        "colab": {
          "base_uri": "https://localhost:8080/",
          "height": 448
        },
        "id": "hATzAwfLAb_I",
        "outputId": "94eb48b2-7011-413e-ae5d-e1af85813adc"
      },
      "execution_count": null,
      "outputs": [
        {
          "output_type": "display_data",
          "data": {
            "text/plain": [
              "<Figure size 640x480 with 1 Axes>"
            ],
            "image/png": "[encoded data removed]"
          },
          "metadata": {}
        },
        {
          "output_type": "stream",
          "name": "stdout",
          "text": [
            "8 city tour; total distance = 1990.4; time = 0.016 secs for exact_TSP\n"
          ]
        }
      ]
    },
    {
      "cell_type": "code",
      "source": [
        "def greedy_TSP(cities):\n",
        "    \"At each step, visit the nearest neighbor that is still unvisited.\"\n",
        "    start = first(cities)\n",
        "    tour = [start]\n",
        "    unvisited = cities - {start}\n",
        "    while unvisited:\n",
        "        C = nearest_neighbor(tour[-1], unvisited)\n",
        "        tour.append(C)\n",
        "        unvisited.remove(C)\n",
        "    return tour\n",
        "\n",
        "def nearest_neighbor(A, cities):\n",
        "    \"Find the city in cities that is nearest to city A.\"\n",
        "    return min(cities, key=lambda x: distance(x, A))"
      ],
      "metadata": {
        "id": "-CKPTiuYAn8c"
      },
      "execution_count": null,
      "outputs": []
    },
    {
      "cell_type": "code",
      "source": [
        "def all_greedy_TSP(cities):\n",
        "    \"Try the greedy algorithm from each of the starting cities; return the shortest tour.\"\n",
        "    return shortest(greedy_TSP(cities, start=c) for c in cities)\n",
        "\n",
        "# We will modify greedy_TSP to take an optional start city; otherwise it is unchanged.\n",
        "def greedy_TSP(cities, start=None):\n",
        "    \"At each step, visit the nearest neighbor that is still unvisited.\"\n",
        "    if start is None:\n",
        "        start = first(cities)\n",
        "    tour = [start]\n",
        "    unvisited = cities - {start}\n",
        "    while unvisited:\n",
        "        C = nearest_neighbor(tour[-1], unvisited)\n",
        "        tour.append(C)\n",
        "        unvisited.remove(C)\n",
        "    return tour"
      ],
      "metadata": {
        "id": "3x_2u44sApeF"
      },
      "execution_count": null,
      "outputs": []
    },
    {
      "cell_type": "code",
      "source": [
        "#Algorithm 4: Greedy Nearest Neighbor with Exact End (greedy_exact_end_TSP)\n",
        "def greedy_exact_end_TSP(cities, start=None, end_size=8):\n",
        "    \"\"\"At each step, visit the nearest neighbor that is still unvisited until\n",
        "    there are k_end cities left; then choose the best of all possible endings.\"\"\"\n",
        "    if start is None: start = first(cities)\n",
        "    tour = [start]\n",
        "    unvisited = cities - {start}\n",
        "\n",
        "    # Use greedy algorithm for all but the last end_size cities\n",
        "    while len(unvisited) > end_size:\n",
        "        C = nearest_neighbor(tour[-1], unvisited)\n",
        "        tour.append(C)\n",
        "        unvisited.remove(C)\n",
        "\n",
        "    # Consider all permutations of possible ends to the tour, and choose the best one.\n",
        "    # (But to make things faster, omit the middle of the tour.)\n",
        "    ends = map(list, itertools.permutations(unvisited))\n",
        "    best = shortest([[tour[0], tour[-1]] + end for end in ends])\n",
        "    return tour + best[2:]"
      ],
      "metadata": {
        "id": "4U8MNe6jAsUV"
      },
      "execution_count": null,
      "outputs": []
    },
    {
      "cell_type": "code",
      "source": [
        "[34] #Algorithm 5: Greedy Nearest Neighbor with Both Ends Search (greedy_bi_TSP)\n",
        "def greedy_bi_TSP(cities, start_size=12, end_size=6):\n",
        "    \"At each step, visit the nearest neighbor that is still unvisited.\"\n",
        "    starts = random.sample(cities, min(len(cities), start_size))\n",
        "    return shortest(greedy_exact_end_TSP(cities, start, end_size)\n",
        "                    for start in starts)"
      ],
      "metadata": {
        "id": "ogDS_0sWBrVl"
      },
      "execution_count": null,
      "outputs": []
    },
    {
      "cell_type": "code",
      "source": [
        "#Benchmarking Algorithms\n",
        "def compare_algorithms(algorithms, maps):\n",
        "    \"Apply each algorithm to each map and plot results.\"\n",
        "    for algorithm in algorithms:\n",
        "        t0 = time.time()\n",
        "        results = [total_distance(algorithm(m)) for m in maps]\n",
        "        t1 = time.time()\n",
        "        avg = sum(results) / len(results)\n",
        "        label = '{:.0f} x {:.1f}s: {}'.format(avg, t1-t0, algorithm.__name__)\n",
        "        plt.plot(sorted(results), label=label)\n",
        "    plt.legend(loc=2)\n",
        "    plt.show()\n",
        "    print('{} x {}-city maps'.format(len(maps), len(maps[0])))\n",
        "\n",
        "def Maps(M, N):\n",
        "    \"Return a list of M maps, each consisting of a set of N cities.\"\n",
        "    return [Cities(N) for m in range(M)]"
      ],
      "metadata": {
        "id": "zDt5xuehB3Xb"
      },
      "execution_count": null,
      "outputs": []
    },
    {
      "cell_type": "code",
      "source": [
        "def bi_10_6(cities): return greedy_bi_TSP(cities, 10, 6)\n",
        "def bi_20_5(cities): return greedy_bi_TSP(cities, 20, 5)\n",
        "def bi_40_4(cities): return greedy_bi_TSP(cities, 40, 4)\n",
        "def bi_80_2(cities): return greedy_bi_TSP(cities, 80, 2)\n",
        "def bi_160_1(cities): return greedy_bi_TSP(cities, 160, 1)\n",
        "\n",
        "algorithms = [bi_10_6, bi_20_5, bi_40_4, bi_80_2, bi_160_1]"
      ],
      "metadata": {
        "id": "yvFwOm1jBv-y"
      },
      "execution_count": null,
      "outputs": []
    },
    {
      "cell_type": "code",
      "source": [
        "string = 'BCAADDDCCACACAC'\n",
        "\n",
        "# Creating tree nodes\n",
        "class NodeTree(object):\n",
        "\n",
        "    def __init__(self, left=None, right=None):\n",
        "        self.left = left\n",
        "        self.right = right\n",
        "\n",
        "    def children(self):\n",
        "        return (self.left, self.right)\n",
        "\n",
        "    def nodes(self):\n",
        "        return (self.left, self.right)\n",
        "\n",
        "    def __str__(self):\n",
        "        return '%s_%s' % (self.left, self.right)"
      ],
      "metadata": {
        "id": "ujEZYJ0AB45o"
      },
      "execution_count": null,
      "outputs": []
    },
    {
      "cell_type": "code",
      "source": [
        "# Main function implementing huffman coding\n",
        "def huffman_code_tree(node, left=True, binString=''):\n",
        "    if type(node) is str:\n",
        "        return {node: binString}\n",
        "    (l, r) = node.children()\n",
        "    d = dict()\n",
        "    d.update(huffman_code_tree(l, True, binString + '0'))\n",
        "    d.update(huffman_code_tree(r, False, binString + '1'))\n",
        "    return d"
      ],
      "metadata": {
        "id": "dGXGYxkPCDMw"
      },
      "execution_count": null,
      "outputs": []
    },
    {
      "cell_type": "code",
      "source": [
        "# Calculating frequency\n",
        "freq = {}\n",
        "for c in string:\n",
        "    if c in freq:\n",
        "        freq[c] += 1\n",
        "    else:\n",
        "        freq[c] = 1\n",
        "\n",
        "freq = sorted(freq.items(), key=lambda x: x[1], reverse=True)\n",
        "\n",
        "nodes = freq\n",
        "\n",
        "while len(nodes) > 1:\n",
        "    (key1, c1) = nodes[-1]\n",
        "    (key2, c2) = nodes[-2]\n",
        "    nodes = nodes[:-2]\n",
        "    node = NodeTree(key1, key2)\n",
        "    nodes.append((node, c1 + c2))\n",
        "\n",
        "    nodes = sorted(nodes, key=lambda x: x[1], reverse=True)\n",
        "\n",
        "huffmanCode = huffman_code_tree(nodes[0][0])\n",
        "\n",
        "print(' Char | Huffman code ')\n",
        "print('---------------------')\n",
        "for (char, frequency) in freq:\n",
        "    print('%-4r |%12s ' % (char, huffmanCode[char]))"
      ],
      "metadata": {
        "colab": {
          "base_uri": "https://localhost:8080/"
        },
        "id": "SVGHMDYPB8tV",
        "outputId": "cc590cd4-9415-4bd5-8453-ee21838cfda2"
      },
      "execution_count": null,
      "outputs": [
        {
          "output_type": "stream",
          "name": "stdout",
          "text": [
            " Char | Huffman code \n",
            "---------------------\n",
            "'C'  |           0 \n",
            "'A'  |          11 \n",
            "'D'  |         101 \n",
            "'B'  |         100 \n"
          ]
        }
      ]
    }
  ]
}