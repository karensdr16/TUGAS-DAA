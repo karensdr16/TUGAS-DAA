{
  "nbformat": 4,
  "nbformat_minor": 0,
  "metadata": {
    "colab": {
      "provenance": []
    },
    "kernelspec": {
      "name": "python3",
      "display_name": "Python 3"
    },
    "language_info": {
      "name": "python"
    }
  },
  "cells": [
    {
      "cell_type": "code",
      "source": [
        "# Fibonacci dengan rekursi\n",
        "\n",
        "def recur_fibo(n):\n",
        "    if n <= 1:\n",
        "        return n\n",
        "    else:\n",
        "        return (recur_fibo(n-1) + recur_fibo(n-2))\n",
        "\n",
        "nterms = 20\n",
        "\n",
        "# cek apakah nilai nterms valid\n",
        "if nterms <= 0:\n",
        "    print(\"Please enter a positive integer\")\n",
        "else:\n",
        "    print(\"Fibonacci sequence:\")\n",
        "    for i in range(nterms):\n",
        "        print(recur_fibo(i))\n"
      ],
      "metadata": {
        "colab": {
          "base_uri": "https://localhost:8080/"
        },
        "id": "Cc5rGxEmwdsF",
        "outputId": "721331c0-73f4-4bf3-d4a6-0fbbae5d5ec8"
      },
      "execution_count": 4,
      "outputs": [
        {
          "output_type": "stream",
          "name": "stdout",
          "text": [
            "Fibonacci sequence:\n",
            "0\n",
            "1\n",
            "1\n",
            "2\n",
            "3\n",
            "5\n",
            "8\n",
            "13\n",
            "21\n",
            "34\n",
            "55\n",
            "89\n",
            "144\n",
            "233\n",
            "377\n",
            "610\n",
            "987\n",
            "1597\n",
            "2584\n",
            "4181\n"
          ]
        }
      ]
    },
    {
      "cell_type": "code",
      "source": [
        "# Fibonacci dengan while\n",
        "\n",
        "nterms = int(input(\"How many terms? \"))\n",
        "n1, n2 = 0, 1\n",
        "count = 0\n",
        "\n",
        "# cek apakah nilai nterms valid\n",
        "if nterms <= 0:\n",
        "    print(\"Please enter a positive integer\")\n",
        "elif nterms == 1:\n",
        "    print(\"Fibonacci sequence upto\", nterms, \":\")\n",
        "    print(n1)\n",
        "else:\n",
        "    print(\"Fibonacci sequence:\")\n",
        "    while count < nterms:\n",
        "        print(n1)\n",
        "        nth = n1 + n2\n",
        "        n1 = n2\n",
        "        n2 = nth\n",
        "        count += 1\n"
      ],
      "metadata": {
        "id": "XEgUviC1yPOe"
      },
      "execution_count": null,
      "outputs": []
    },
    {
      "cell_type": "code",
      "source": [
        "import matplotlib\n",
        "import matplotlib.pyplot as plt\n",
        "import random\n",
        "import time\n",
        "import itertools\n",
        "\n",
        "# Try All Tours\n",
        "def exact_TSP(cities):\n",
        "    return shortest(alltours(cities))\n",
        "\n",
        "def shortest(tours):\n",
        "    return min(tours, key=total_distance)\n"
      ],
      "metadata": {
        "id": "ZYGNsJn5yRON"
      },
      "execution_count": null,
      "outputs": []
    },
    {
      "cell_type": "code",
      "source": [
        "alltours = itertools.permutations\n",
        "\n",
        "def total_distance(tour):\n",
        "    return sum(distance(tour[i], tour[i-1]) for i in range(len(tour)))\n",
        "\n",
        "City = complex\n",
        "\n",
        "def distance(A, B):\n",
        "    return abs(A - B)\n"
      ],
      "metadata": {
        "id": "kQxa7G1ByUBt"
      },
      "execution_count": null,
      "outputs": []
    },
    {
      "cell_type": "code",
      "source": [
        "def Cities(n):\n",
        "    return set(City(random.randrange(10, 890), random.randrange(10, 590)) for c in range(n))\n",
        "\n",
        "random.seed('seed')\n",
        "cities8 = Cities(8)\n",
        "cities100 = Cities(100)\n",
        "cities1000 = Cities(1000)\n"
      ],
      "metadata": {
        "id": "I3R-5aMhyaYD"
      },
      "execution_count": null,
      "outputs": []
    },
    {
      "cell_type": "code",
      "source": [
        "tour = exact_TSP(cities8)\n",
        "print(tour)\n",
        "print(total_distance(tour))\n"
      ],
      "metadata": {
        "id": "JY6Ch9rAyilV"
      },
      "execution_count": null,
      "outputs": []
    },
    {
      "cell_type": "code",
      "source": [
        "def plot_tour(algorithm, cities):\n",
        "    t0 = time.time()\n",
        "    tour = algorithm(cities)\n",
        "    t1 = time.time()\n",
        "\n",
        "    plt.figure()\n",
        "    plot_lines(list(tour) + [tour[0]])\n",
        "    plt.scatter([c.real for c in cities], [c.imag for c in cities])\n",
        "    plt.title('{}: {} cities => tour length {:.1f} (in {:.3f} secs)'\n",
        "              .format(algorithm.__name__, len(cities), total_distance(tour), t1 - t0))\n",
        "    plt.show()\n",
        "\n",
        "def plot_lines(points):\n",
        "    plt.plot([p.real for p in points], [p.imag for p in points], 'bo-')\n"
      ],
      "metadata": {
        "id": "cW0z9aYhykxc"
      },
      "execution_count": null,
      "outputs": []
    },
    {
      "cell_type": "code",
      "source": [
        "def greedy_TSP(cities, start=None):\n",
        "    if start is None:\n",
        "        start = cities[0]\n",
        "    tour = [start]\n",
        "    unvisited = set(cities)\n",
        "    unvisited.remove(start)\n",
        "\n",
        "    while unvisited:\n",
        "        c = nearest_neighbor(tour[-1], unvisited)\n",
        "        tour.append(c)\n",
        "        unvisited.remove(c)\n",
        "\n",
        "    return tour\n",
        "\n",
        "def all_greedy_TSP(cities):\n",
        "    return shortest([greedy_TSP(cities, start=c) for c in cities])\n"
      ],
      "metadata": {
        "id": "4_wTKLrvykqF"
      },
      "execution_count": null,
      "outputs": []
    },
    {
      "cell_type": "code",
      "source": [
        "import itertools\n",
        "\n",
        "def greedy_exact_end_TSP(cities, start=None, end_size=8):\n",
        "    if start is None:\n",
        "        start = cities[0]\n",
        "    tour = [start]\n",
        "    unvisited = set(cities)\n",
        "    unvisited.remove(start)\n",
        "\n",
        "    while len(unvisited) > end_size:\n",
        "        c = nearest_neighbor(tour[-1], unvisited)\n",
        "        tour.append(c)\n",
        "        unvisited.remove(c)\n",
        "\n",
        "    ends = map(list, itertools.permutations(unvisited))\n",
        "    best = shortest([tour + end for end in ends])\n",
        "    return best\n"
      ],
      "metadata": {
        "id": "iaGuavgQym61"
      },
      "execution_count": null,
      "outputs": []
    },
    {
      "cell_type": "code",
      "source": [
        "import random\n",
        "\n",
        "def greedy_bi_TSP(cities, start_size=12, end_size=6):\n",
        "    starts = random.sample(cities, min(len(cities), start_size))\n",
        "    return shortest([greedy_exact_end_TSP(cities, start, end_size) for start in starts])\n"
      ],
      "metadata": {
        "id": "snGre4RAzbUW"
      },
      "execution_count": null,
      "outputs": []
    },
    {
      "cell_type": "code",
      "source": [
        "def total_distance(tour):\n",
        "    return sum(distance(tour[i], tour[i+1]) for i in range(len(tour)-1))\n",
        "\n",
        "def compare_algorithms(algorithms, maps):\n",
        "    for algorithm in algorithms:\n",
        "        t0 = time.time()\n",
        "        results = [total_distance(algorithm(m)) for m in maps]\n",
        "        t1 = time.time()\n",
        "        avg = sum(results) / len(results)\n",
        "        label = '{:.0f}: {:.1f}s: {}'.format(avg, t1 - t0, algorithm.__name__)\n",
        "        plt.plot(sorted(results), label=label)\n",
        "\n",
        "    plt.legend(loc=2)\n",
        "    plt.show()\n",
        "    print('{} x {}-city maps'.format(len(maps), len(maps[0])))\n",
        "\n",
        "def Maps(M, N):\n",
        "    return [[(random.random()*1000, random.random()*1000) for _ in range(N)] for _ in range(M)]\n"
      ],
      "metadata": {
        "id": "9kqUyzwszheN"
      },
      "execution_count": null,
      "outputs": []
    },
    {
      "cell_type": "code",
      "source": [
        "def bi_10_6(cities): return greedy_bi_TSP(cities, 10, 6)\n",
        "def bi_20_5(cities): return greedy_bi_TSP(cities, 20, 5)\n",
        "def bi_40_4(cities): return greedy_bi_TSP(cities, 40, 4)\n",
        "def bi_80_2(cities): return greedy_bi_TSP(cities, 80, 2)\n",
        "def bi_160_1(cities): return greedy_bi_TSP(cities, 160, 1)\n",
        "\n",
        "algorithms = [bi_10_6, bi_20_5, bi_40_4, bi_80_2, bi_160_1]\n"
      ],
      "metadata": {
        "id": "z5Jf3SAzzign"
      },
      "execution_count": null,
      "outputs": []
    },
    {
      "cell_type": "code",
      "source": [
        "def huffman_coding(characters_freq):\n",
        "    \"\"\"\n",
        "    Input: Array of characters dengan frequencies\n",
        "    Output: Huffman Tree\n",
        "    \"\"\"\n",
        "    # Step 1: Create min heap dengan semua characters\n",
        "    min_heap = create_min_heap(characters_freq)\n",
        "\n",
        "    # Step 2-4: Build tree\n",
        "    while len(min_heap) > 1:\n",
        "        # Extract 2 minimum nodes\n",
        "        left = extract_min(min_heap)\n",
        "        right = extract_min(min_heap)\n",
        "\n",
        "        # Create new internal node\n",
        "        new_node = Node()\n",
        "        new_node.frequency = left.frequency + right.frequency\n",
        "        new_node.left = left\n",
        "        new_node.right = right\n",
        "\n",
        "        # Insert back to heap\n",
        "        insert(min_heap, new_node)\n",
        "\n",
        "    # Remaining node is root\n",
        "    root = extract_min(min_heap)\n",
        "    return root\n",
        "\n",
        "def assign_codes(root, code=\"\", codes={}):\n",
        "    \"\"\"\n",
        "    Traverse tree dan assign codes\n",
        "    \"\"\"\n",
        "    if root is None:\n",
        "        return\n",
        "\n",
        "    # Jika leaf node (karakter)\n",
        "    if root.is_leaf():\n",
        "        codes[root.character] = code\n",
        "        return codes\n",
        "\n",
        "    # Traverse left (add '0')\n",
        "    assign_codes(root.left, code + \"0\", codes)\n",
        "\n",
        "    # Traverse right (add '1')\n",
        "    assign_codes(root.right, code + \"1\", codes)\n",
        "\n",
        "    return codes"
      ],
      "metadata": {
        "id": "W71DeOlzz899"
      },
      "execution_count": null,
      "outputs": []
    },
    {
      "cell_type": "code",
      "source": [
        "import heapq\n",
        "from collections import defaultdict\n",
        "\n",
        "class Node:\n",
        "    def __init__(self, char=None, freq=0):\n",
        "        self.char = char\n",
        "        self.freq = freq\n",
        "        self.left = None\n",
        "        self.right = None\n",
        "\n",
        "    def __lt__(self, other):\n",
        "        return self.freq < other.freq\n",
        "\n",
        "def build_huffman_tree(char_freq):\n",
        "    \"\"\"Build Huffman Tree from character frequencies\"\"\"\n",
        "    # Step 1: Create min heap\n",
        "    heap = []\n",
        "    for char, freq in char_freq.items():\n",
        "        node = Node(char, freq)\n",
        "        heapq.heappush(heap, node)\n",
        "\n",
        "    # Step 2-4: Build tree\n",
        "    while len(heap) > 1:\n",
        "        left = heapq.heappop(heap)\n",
        "        right = heapq.heappop(heap)\n",
        "\n",
        "        internal = Node(None, left.freq + right.freq)\n",
        "        internal.left = left\n",
        "        internal.right = right\n",
        "\n",
        "        heapq.heappush(heap, internal)\n",
        "\n",
        "    return heap[0]  # Root node\n",
        "\n",
        "def generate_codes(root, code=\"\", codes=None):\n",
        "    \"\"\"Generate Huffman codes by traversing tree\"\"\"\n",
        "    if codes is None:\n",
        "        codes = {}\n",
        "\n",
        "    if root is None:\n",
        "        return codes\n",
        "\n",
        "    # Leaf node (character)\n",
        "    if root.char is not None:\n",
        "        codes[root.char] = code if code else \"0\"\n",
        "        return codes\n",
        "\n",
        "    # Traverse left and right\n",
        "    generate_codes(root.left, code + \"0\", codes)\n",
        "    generate_codes(root.right, code + \"1\", codes)\n",
        "\n",
        "    return codes\n",
        "\n",
        "def huffman_encoding(text):\n",
        "    \"\"\"Encode text using Huffman Coding\"\"\"\n",
        "    # Calculate frequencies\n",
        "    char_freq = defaultdict(int)\n",
        "    for char in text:\n",
        "        char_freq[char] += 1\n",
        "\n",
        "    # Build tree\n",
        "    root = build_huffman_tree(char_freq)\n",
        "\n",
        "    # Generate codes\n",
        "    codes = generate_codes(root)\n",
        "\n",
        "    # Encode text\n",
        "    encoded = \"\".join(codes[char] for char in text)\n",
        "\n",
        "    return encoded, root, codes\n",
        "\n",
        "def huffman_decoding(encoded, root):\n",
        "    \"\"\"Decode encoded text using Huffman Tree\"\"\"\n",
        "    decoded = []\n",
        "    current = root\n",
        "\n",
        "    for bit in encoded:\n",
        "        if bit == '0':\n",
        "            current = current.left\n",
        "        else:\n",
        "            current = current.right\n",
        "\n",
        "        # Leaf node reached\n",
        "        if current.char is not None:\n",
        "            decoded.append(current.char)\n",
        "            current = root\n",
        "\n",
        "    return \"\".join(decoded)\n",
        "\n",
        "# Example Usage\n",
        "if __name__ == \"__main__\":\n",
        "    # Example from PDF\n",
        "    char_freq = {\n",
        "        'a': 5,\n",
        "        'b': 9,\n",
        "        'c': 12,\n",
        "        'd': 13,\n",
        "        'e': 16,\n",
        "        'f': 45\n",
        "    }\n",
        "\n",
        "    # Build tree\n",
        "    root = build_huffman_tree(char_freq)\n",
        "\n",
        "    # Generate codes\n",
        "    codes = generate_codes(root)\n",
        "\n",
        "    print(\"Huffman Codes:\")\n",
        "    for char, code in sorted(codes.items()):\n",
        "        print(f\"{char}: {code}\")\n",
        "\n",
        "    # Test encoding/decoding\n",
        "    text = \"abcdef\"\n",
        "    encoded, _, _ = huffman_encoding(text)\n",
        "    print(f\"\\nOriginal: {text}\")\n",
        "    print(f\"Encoded: {encoded}\")\n",
        "\n",
        "    decoded = huffman_decoding(encoded, root)\n",
        "    print(f\"Decoded: {decoded}\")"
      ],
      "metadata": {
        "id": "8aqJGiBRz-SV"
      },
      "execution_count": null,
      "outputs": []
    },
    {
      "cell_type": "code",
      "source": [
        "text = \"HUFFMAN\"\n",
        "# Frequency count:\n",
        "# H: 2\n",
        "# U: 1\n",
        "# F: 2\n",
        "# M: 1\n",
        "# A: 1\n",
        "# N: 1\n",
        "\n",
        "char_freq = {'H': 2, 'U': 1, 'F': 2, 'M': 1, 'A': 1, 'N': 1}\n",
        "root = build_huffman_tree(char_freq)\n",
        "codes = generate_codes(root)\n",
        "\n",
        "# Hasil codes akan bervariasi tergantung urutan di heap\n",
        "# Contoh kemungkinan:\n",
        "# H: 00\n",
        "# F: 01\n",
        "# U: 100\n",
        "# M: 101\n",
        "# A: 110\n",
        "# N: 111"
      ],
      "metadata": {
        "id": "RCig88Qa0CJE"
      },
      "execution_count": null,
      "outputs": []
    }
  ]
}